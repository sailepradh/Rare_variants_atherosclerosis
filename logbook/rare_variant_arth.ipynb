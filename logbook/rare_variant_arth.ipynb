{
 "cells": [
  {
   "cell_type": "markdown",
   "metadata": {},
   "source": [
    "## July - August 2017\n",
    "\n",
    "\n",
    "* Work completed \n",
    "    - Understood the format of the HiCAp data from project\n",
    "    - Downloaded the 1000 Sweden frequency data\n",
    "    - Using the VCFtools filtered and seperated into INdel and SNPs \n",
    "    - Took into consideration passed tagged SNPs and started to work out with it\n",
    "    - Created a rough python script that would take allele frequncy from vcf files and overlap with interaction dataset\n",
    "    \n",
    "* Work needed to be done\n",
    "    - Make the script robust so that based on the allele frequency it would make multiple argument of Rare, Common and Low frequency and ouutput corresponding interaction files of these frequency appended for example:\n",
    "    python vcfmaipulation.py  InteractioData.txt -Rare --outuput interaction_common.txt\n",
    "    \n",
    "    - Append the functional Transcription factor and methylation (H3Kme4, H4ac27) annotation to these regions\n",
    "    \n",
    "    - Calcualte the enriched transcription factors in those regions\n",
    "    \n",
    " "
   ]
  },
  {
   "cell_type": "markdown",
   "metadata": {},
   "source": [
    "Preprocessing of BAV P-E dataset \n",
    "\n",
    "We find the BAV dataset and it contiand following information in its corresponding columns:\n",
    "* RefSeqName\n",
    "* TranscriptName\n",
    "* Feature_ID\n",
    "* Probe_ID\n",
    "* Feature_Chr\n",
    "* Feature_Start\n",
    "* Feature_End\n",
    "* Annotation\n",
    "* Strand\n",
    "* Interactor_Chr\n",
    "* Interactor_Start\n",
    "* Interactor_End\n",
    "* distance\n",
    "* BAV_rep1_SuppPairs\n",
    "* BAV_rep1_p_value\n",
    "* BAV_rep1.SuppPairs_combination\n",
    "* BAV_rep2_SuppPairs\n",
    "* BAV_rep2_p_value\n",
    "* BAV_rep2.SuppPairs_combination\n",
    "\n",
    "The following command was used for finding the average interaction change in each rows. Since the information change in BAV_rep1_SuppPairs i.e 14 and BAV_rep2_SuppPairs i.e 17 ."
   ]
  },
  {
   "cell_type": "code",
   "execution_count": 1,
   "metadata": {},
   "outputs": [
    {
     "name": "stdout",
     "output_type": "stream",
     "text": [
      "20.3878\n",
      "13.9396\n"
     ]
    }
   ],
   "source": [
    "%%bash\n",
    "\n",
    "awk '{ sum += $14; n++ } END { if (n > 0) print sum / n; }' ../data/BAV_HiCap/BAV_P-E_InteractionDataset.txt \n",
    "awk '{ sum += $17; n++ } END { if (n > 0) print sum / n; }' ../data/BAV_HiCap/BAV_P-E_InteractionDataset.txt "
   ]
  },
  {
   "cell_type": "code",
   "execution_count": 2,
   "metadata": {},
   "outputs": [
    {
     "name": "stdout",
     "output_type": "stream",
     "text": [
      "['ABLIM1', 'NM_001003407', 'ABLIM1_116444414', 'NM_001003407_refseq', 'chr10', '116444414', '116190868', '1', '-', 'chr10', '116149220', '116150098', '-295194', '9', '0.000141264', '1_2_0_6', '6', '3.41323e-05', '0_0_5_1']\n",
      "-295194\n"
     ]
    }
   ],
   "source": [
    "import numpy as np\n",
    "import matplotlib.mlab as mlab\n",
    "import matplotlib.pyplot as plt\n",
    "\n",
    "with open (\"../data/BAV_HiCap/BAV_P-E_InteractionDataset.txt\", 'r') as f:\n",
    "    for line in f:\n",
    "        A = line.strip().split(\"\\t\")\n",
    "        print(A)\n",
    "        print(A[12])\n",
    "        break"
   ]
  },
  {
   "cell_type": "code",
   "execution_count": 3,
   "metadata": {},
   "outputs": [
    {
     "data": {
      "image/png": "[encoded data removed]",
      "text/plain": [
       "<matplotlib.figure.Figure at 0x113dd5470>"
      ]
     },
     "metadata": {},
     "output_type": "display_data"
    },
    {
     "name": "stdout",
     "output_type": "stream",
     "text": [
      "8259 20700 3334 1030\n"
     ]
    }
   ],
   "source": [
    "import numpy as np\n",
    "import pandas as pd\n",
    "import matplotlib.mlab as mlab\n",
    "import matplotlib.pyplot as plt\n",
    "\n",
    "data = pd.read_csv('../data/BAV_HiCap/BAV_P-E_InteractionDataset.txt', sep='\\t',\n",
    "                   header=None, index_col =0)\n",
    "\n",
    "fig, axes = plt.subplots(nrows=2,ncols =2, figsize=(12, 8))\n",
    "ax0, ax1, ax2, ax3 = axes.flatten()\n",
    "\n",
    "A =  np.array(abs(data[12]))\n",
    "A_50kb = [i for i in A if i < 50000]\n",
    "A_50_500kb = [i for i in A if i >= 50000 and i < 500000 ]\n",
    "A_500_1Mb = [i for i in A if i >= 500000 and i < 1000000]\n",
    "A_1Mb = [i for i in A if i > 1000000]\n",
    "\n",
    "ax0.hist(A_50kb, histtype='bar', rwidth=0.85, facecolor='g')\n",
    "ax0.set_title('Enhancer distribution < 50 kb')\n",
    "ax0.set_xlabel (\"Enhancer Length\")\n",
    "ax0.set_ylabel (\"Frequency\")\n",
    "\n",
    "ax1.hist(A_50_500kb, histtype='bar', rwidth=0.85)\n",
    "ax1.set_title('Enhancer distribution within 50-500 kb')\n",
    "ax1.set_xlabel (\"Enhancer Length\")\n",
    "ax1.set_ylabel (\"Frequency\")\n",
    "\n",
    "ax2.hist(A_500_1Mb, histtype='bar', rwidth=0.85)\n",
    "ax2.set_title('Enhancer distribution within 500kb - 1Mb')\n",
    "ax2.set_xlabel (\"Enhancer Length\")\n",
    "ax2.set_ylabel (\"Frequency\")\n",
    "\n",
    "ax3.hist(A_1Mb, histtype='bar', rwidth=0.85)\n",
    "ax3.set_title('Enhancer distribution > 1Mb')\n",
    "ax3.set_xlabel (\"Enhancer Length\")\n",
    "ax3.set_ylabel (\"Frequency\")\n",
    "\n",
    "fig.tight_layout()\n",
    "plt.show()\n",
    "\n",
    "\n",
    "fig.savefig('../results/length_distribution.png')\n",
    "print (len(A_50kb), len(A_50_500kb), len(A_500_1Mb), len(A_1Mb))"
   ]
  },
  {
   "cell_type": "markdown",
   "metadata": {},
   "source": [
    "### August 18 2017 - Sep 05 2017\n",
    "\n",
    "Work progress:\n",
    "\n",
    "* Make use of argparser in vafmanipulation python script so that it would take txt and vcf file from terminal\n",
    "* Use of function to output rare, common and low frequency variants from Swedgen.\n",
    "\n",
    "\n",
    "I rewrote the script called as test_2.py (which I aim to rename better but at the current point it is just test script) which can now take both P-E and P-P interaction dataset. There was columns that reappered in P-P dataset which was not taekn into consideration in earlier script. By using an additional loops the script , now it can take any kind of interaction data and output the variants and number of variants in enhnacer. This script provides the genetic profile (that is common, rare and low frequency variants) of individual enhancer region.\n",
    "\n",
    "(Run the script as below)"
   ]
  },
  {
   "cell_type": "code",
   "execution_count": 4,
   "metadata": {},
   "outputs": [
    {
     "name": "stdout",
     "output_type": "stream",
     "text": [
      "ABLIM1\tNM_001003407\tchr10\t116444414\t116190868\t1\t-\tchr10\t116149220\t116150098\t-295194\t10,116149608,('C', 'G'),21:10,116149806,('C', 'T'),24:2\n",
      "ABLIM1\tNM_001003407\tchr10\t116444414\t116190868\t1\t-\tchr10\t116296244\t116297264\t-148170\t10,116296559,('C', 'T'),25:1\n",
      "ABLIM1\tNM_001003407\tchr10\t116444414\t116190868\t1\t-\tchr10\t116313369\t116314228\t-131045\t10,116313372,('T', 'A'),25:10,116313876,('C', 'T'),44:2\n",
      "ABLIM1\tNM_001003407\tchr10\t116444414\t116190868\t1\t-\tchr10\t116332549\t116333287\t-111865\t10,116332591,('C', 'A'),27:10,116332800,('C', 'A'),27:2\n",
      "ABLIM1\tNM_001003407\tchr10\t116444414\t116190868\t1\t-\tchr10\t116384045\t116384773\t-60369\t10,116384447,('C', 'T'),29:10,116384509,('A', 'G'),40:2\n",
      "ABLIM1\tNM_001003407\tchr10\t116444414\t116190868\t1\t-\tchr10\t116411151\t116413213\t-33263\t10,116411679,('T', 'G'),28:10,116412310,('C', 'T'),29:2\n",
      "ABLIM1\tNM_001003407\tchr10\t116444414\t116190868\t1\t-\tchr10\t116414549\t116415191\t-29865\t10,116414562,('C', 'T'),24:10,116414571,('A', 'G'),38:2\n",
      "ABLIM1\tNM_001003407\tchr10\t116444414\t116190868\t1\t-\tchr10\t116417496\t116417640\t-26918\t10,116417549,('C', 'T'),30:1\n",
      "ABLIM1\tNM_001003407\tchr10\t116444414\t116190868\t1\t-\tchr10\t116418504\t116419510\t-25910\t10,116419146,('T', 'C'),29:1\n",
      "ABLIM1\tNM_001003407\tchr10\t116444414\t116190868\t1\t-\tchr10\t116420960\t116421844\t-23454\t10,116421406,('A', 'G'),29:1\n"
     ]
    }
   ],
   "source": [
    "%%bash\n",
    "\n",
    "# python test_2.py ../data/swegen_20161223/SNP_VCF.gz ../data/BAV_HiCap/BAV_P-E_InteractionDataset.txt  Rare  --output ../results/Interactor_variant/Rare_P_E.txt\n",
    "\n",
    "# This commmand line is commented at the moment to make it inactive. However after running the\n",
    "# script you would expect three files of each class in result folder.\n",
    "\n",
    "head ../results/Interactor_variant/Lowfreq_P_E.txt"
   ]
  },
  {
   "cell_type": "markdown",
   "metadata": {},
   "source": [
    "\n",
    "The coresponding last column is the aggregared information of varianttype. It contians information regarding the number of variants, position, Reference and alternate allele, number of individuals seperated by special charavrtes \":\". The last field of this column contians the count of number of variant found in each putatative enhancer section. Further, we can dig into these individual interaction files to find number of enhancer regions with different class of variant type and subsequent analysis. This can be done in python itself."
   ]
  },
  {
   "cell_type": "code",
   "execution_count": 5,
   "metadata": {},
   "outputs": [
    {
     "name": "stdout",
     "output_type": "stream",
     "text": [
      "The number of ehancer in Common 22055 and corresponding variant counts is 56891\n",
      "The number of ehancer in low frequency 14403 and corresponding variants count is 24049\n",
      "The number of ehancer in Rare 22144 and corresponding sum of variants count is 47281\n"
     ]
    }
   ],
   "source": [
    "## Python script to manipulate individual variant annotated interaction files\n",
    "\n",
    "import numpy as np\n",
    "import pandas as pd\n",
    "import matplotlib.mlab as mlab\n",
    "import matplotlib.pyplot as plt\n",
    "\n",
    "Low_freq = pd.read_csv('../results/Interactor_variant/Lowfreq_P_E.txt', sep='\\t',header=None, index_col =0)\n",
    "Common = pd.read_csv('../results/Interactor_variant/Common_P_E.txt', sep='\\t',header=None, index_col =0)\n",
    "Rare = pd.read_csv('../results/Interactor_variant/Rare_P_E.txt', sep='\\t',header=None, index_col =0)\n",
    "\n",
    "LowFreq_number = []\n",
    "Common_number =[]\n",
    "Rare_number= []\n",
    "\n",
    "for line in Low_freq[11]:\n",
    "    line = line.strip().split(\":\")\n",
    "    LowFreq_number.append(int(line[-1]))\n",
    "    \n",
    "for line in Common[11]:\n",
    "    line = line.strip().split(\":\")\n",
    "    Common_number.append(int(line[-1]))\n",
    "\n",
    "for line in Rare[11]:\n",
    "    line = line.strip().split(\":\")\n",
    "    Rare_number.append(int(line[-1]))\n",
    "\n",
    "print (\"The number of ehancer in Common \"+  str(len(Common)) + \" and corresponding variant counts is \"+ str(sum(Common_number)))   \n",
    "print (\"The number of ehancer in low frequency \" + str(len(Low_freq))+ \" and corresponding variants count is \" + str(sum(LowFreq_number)))\n",
    "print (\"The number of ehancer in Rare \" + str(len(Rare))+ \" and corresponding sum of variants count is \" + str(sum(Rare_number)))"
   ]
  },
  {
   "cell_type": "code",
   "execution_count": 6,
   "metadata": {
    "collapsed": true
   },
   "outputs": [],
   "source": [
    "import re\n",
    "\n",
    "def getallelecount(numpyarray):\n",
    "    regex = r\"(\\d+\\:\\d+)+\"\n",
    "    allelecount = []\n",
    "    for line in numpyarray:\n",
    "        m = re.finditer(regex, str(line))\n",
    "        for match in m:\n",
    "            freq = match.group().split(\":\")[0]\n",
    "            allelecount.append(freq)\n",
    "    return (allelecount)\n",
    "\n",
    "Common_allele_counts = getallelecount(Common[11])\n",
    "Low_allele_counts = getallelecount(Low_freq[11])\n",
    "Rare_allele_counts = getallelecount(Rare[11]) \n"
   ]
  },
  {
   "cell_type": "code",
   "execution_count": 8,
   "metadata": {},
   "outputs": [
    {
     "name": "stdout",
     "output_type": "stream",
     "text": [
      "56880\n",
      "24044\n",
      "47260\n"
     ]
    }
   ],
   "source": [
    "print (len(Common_allele_counts))\n",
    "#print ((Common_allele_counts)[1:100])\n",
    "print (len(Low_allele_counts))\n",
    "print (len(Rare_allele_counts))"
   ]
  },
  {
   "cell_type": "code",
   "execution_count": 9,
   "metadata": {},
   "outputs": [
    {
     "data": {
      "image/png": "[encoded data removed]",
      "text/plain": [
       "<matplotlib.figure.Figure at 0x116895668>"
      ]
     },
     "metadata": {},
     "output_type": "display_data"
    }
   ],
   "source": [
    "import numpy as np\n",
    "import pandas as pd\n",
    "import math\n",
    "import matplotlib.mlab as mlab\n",
    "import matplotlib.pyplot as plt\n",
    "\n",
    "data_Common = [int(i) for i in Common_allele_counts]\n",
    "data_LF = [int(i) for i in Low_allele_counts]\n",
    "data_Rare = [int(i) for i in Rare_allele_counts]\n",
    "\n",
    "fig, (ax0, ax1,ax2) = plt.subplots(ncols=3, figsize=(12, 5))\n",
    "\n",
    "ax0.hist(data_Common, facecolor='g', alpha=0.75, rwidth=0.85)\n",
    "ax0.set_title('Common variant in Enhancer regions')\n",
    "ax0.set_xlabel (\"Allele count in Swe-freq\")\n",
    "ax0.set_ylabel (\"Counts\")\n",
    "\n",
    "ax1.hist(data_LF, facecolor='b', rwidth=0.8)\n",
    "ax1.set_title('Low_freq variant in Enhancer regions')\n",
    "ax1.set_xlabel (\"Allele count in Swe-freq\")\n",
    "ax1.set_ylabel (\"Counts\")\n",
    "\n",
    "ax2.hist(data_Rare, facecolor='r', rwidth=0.8)\n",
    "ax2.set_title('Rare variant in Enhancer regions')\n",
    "ax2.set_xlabel (\"Allele count in Swe-freq\")\n",
    "ax2.set_ylabel (\"Counts\")\n",
    "\n",
    "fig.tight_layout()\n",
    "plt.show()\n",
    "fig.savefig('../results/Distibution_allelecount.png')"
   ]
  },
  {
   "cell_type": "markdown",
   "metadata": {
    "collapsed": true
   },
   "source": [
    "---------------------------------------"
   ]
  },
  {
   "cell_type": "markdown",
   "metadata": {
    "collapsed": true
   },
   "source": [
    "### Sep15-Oct2017\n",
    "\n",
    "* Made and updated the new script\n",
    "* Made a script for Transcription factor, methylation mark and DNAise hypersensitive elements\n",
    "\n",
    "Here, we have now made the rare, common and low frequency variant annotated list in our earlier outputted file. Now we want to make a script that takes the different functional non coding elements from chipseq atlas and annotates it based on the script. As I want to work with only one file for developing the script, I took rare varaint as model data to make the scripts.\n",
    "\n",
    "Again important thing is to look for the interaction chromosome, start and end postion and using a bedtools interscect, find the regions that are overlapping these regions and annotate based on these regions. I can use a BEDTools already present in the moilou. Howver, I want to write a python script that can be used in python. For this there were two thing to look forward to. Firstly it was whether there are bedtools wrapper for python or not and secondly parse both the output from the VCF manipulation from earlier files.\n",
    "\n",
    "I searched for bedtools wrapper in google and there is [pybedtools](https://pypi.python.org/pypi/pybedtools) module in python. Following the package, I am looking into [github page](https://daler.github.io/pybedtools/index.html). \n",
    "\n",
    "\n",
    "#### Downloading files from Chipseq atlas (browsed on Sep20th 2017)\n",
    "\n",
    "Chipseq atlas, as name suggests have repository of chipseq experiments from different experiments, primary cells and celline data. I downloaded the experimental results for [HUVEC dataset](https://en.wikipedia.org/wiki/Human_umbilical_vein_endothelial_cell). As the name suggests, there are the cells from the endothelial cells. As we are looking in disease pertaining to aortic cell (BAV:- Biscupid aortic valve), we considered into looking into this dataset. Following critera was included while downloading files relating to mehtylation, transcription factor and DNAise data:\n",
    "\n",
    "* Threshold significance of 100\n",
    "* Against all the antigens\n",
    "\n",
    "All the downloaded data set were stored in following /Users/salendrapradh/Documents/Rare_variants_atherosclerosis/data/Annotation_Chipseq\n"
   ]
  },
  {
   "cell_type": "code",
   "execution_count": 11,
   "metadata": {},
   "outputs": [
    {
     "name": "stdout",
     "output_type": "stream",
     "text": [
      "ABLIM1\tNM_001003407\tchr10\t116444414\t116190868\t1\t-\tchr10\t116149220\t116150098\t-295194\t10,116149247,('T', 'C'),3:10,116149344,('T', 'C'),3:10,116149375,('G', 'A'),5:10,116149823,('T', 'C'),3:4\n",
      "ABLIM1\tNM_001003407\tchr10\t116444414\t116190868\t1\t-\tchr10\t116285363\t116286320\t-159051\t10,116285432,('T', 'C'),15:10,116286294,('G', 'A'),8:2\n",
      "ABLIM1\tNM_001003407\tchr10\t116444414\t116190868\t1\t-\tchr10\t116297522\t116298892\t-146892\t10,116297733,('A', 'G'),5:10,116298261,('C', 'T'),3:2\n",
      "ABLIM1\tNM_001003407\tchr10\t116444414\t116190868\t1\t-\tchr10\t116303841\t116305018\t-140573\t10,116304258,('G', 'C'),5:1\n",
      "ABLIM1\tNM_001003407\tchr10\t116444414\t116190868\t1\t-\tchr10\t116310502\t116310930\t-133912\t10,116310677,('A', 'G'),5:10,116310838,('G', 'T'),6:2\n",
      "ABLIM1\tNM_001003407\tchr10\t116444414\t116190868\t1\t-\tchr10\t116313369\t116314228\t-131045\t10,116313511,('G', 'A'),3:1\n",
      "ABLIM1\tNM_001003407\tchr10\t116444414\t116190868\t1\t-\tchr10\t116326758\t116327036\t-117656\t10,116327017,('G', 'A'),8:1\n",
      "ABLIM1\tNM_001003407\tchr10\t116444414\t116190868\t1\t-\tchr10\t116332549\t116333287\t-111865\t10,116332730,('C', 'T'),7:1\n",
      "ABLIM1\tNM_001003407\tchr10\t116444414\t116190868\t1\t-\tchr10\t116384045\t116384773\t-60369\t10,116384295,('C', 'A'),17:10,116384641,('A', 'G'),5:2\n",
      "ABLIM1\tNM_001003407\tchr10\t116444414\t116190868\t1\t-\tchr10\t116411151\t116413213\t-33263\t10,116411712,('T', 'C'),18:10,116411813,('G', 'A'),10:2\n",
      "track name=\"His (@ HUVEC) 100\" url=\"http://chip-atlas.org/view?id=$$\" gffTags=\"on\"\n",
      "chr1\t9859\t10480\tID=SRX335069;Name=H3K4me3%20(@%20HUVEC);Title=GSM1208344:%20HUVEC%20H3K4me3%20VEGF%201h%3B%20Homo%20sapiens%3B%20ChIP-Seq;Cell%20group=Cardiovascular;<br>source_name=HUVEC_H3K4me3%20VEGF%20plus;cell%20type=human%20umbilical%20vein%20endothelial%20cells;stimulation=VEGF;chip%20antibody=H3K4me3%20(kindly%20provided%20by%20Dr.%20Kimura,%20Osaka%20University);\t970\t.\t9859\t10480\t255,30,0\n",
      "chr1\t9863\t10478\tID=SRX335068;Name=H3K4me3%20(@%20HUVEC);Title=GSM1208343:%20HUVEC%20H3K4me3%200h%3B%20Homo%20sapiens%3B%20ChIP-Seq;Cell%20group=Cardiovascular;<br>source_name=HUVEC_H3K4me3%20minus;cell%20type=human%20umbilical%20vein%20endothelial%20cells;stimulation=none;chip%20antibody=H3K4me3%20(kindly%20provided%20by%20Dr.%20Kimura,%20Osaka%20University);\t1000\t.\t9863\t10478\t255,0,0\n",
      "chr1\t9911\t10406\tID=SRX067442;Name=H3K27ac%20(@%20HUVEC);Title=GSM733691:%20Bernstein%20HUVEC%20H3K27ac;Cell%20group=Cardiovascular;<br>source_name=HUVEC;biomaterial_provider=Lonza;donor_id=ENCDO000AAS;biomaterial_type=primary%20cell;cell_type=endothelial%20cell%20of%20umbilical%20vein;lab=Broad;lab%20description=Bernstein%20-%20Broad%20Institute;datatype=ChipSeq;datatype%20description=Chromatin%20IP%20Sequencing;cell%20organism=human;cell%20description=umbilical%20vein%20endothelial%20cells;antibody%20antibodydescription=rabbit%20polyclonal.%20Antibody%20Target:%20H3K27ac;antibody=H3K27ac;antibody%20targetdescription=Histone%20H3%20(acetyl%20K27).%20As%20with%20H3K9ac,%20associated%20with%20transcriptional%20initiation%20and%20open%20chromatin%20structure.%20It%20remains%20unknown%20whether%20acetylation%20has%20can%20have%20different%20consequences%20depending%20on%20the%20specific%20lysine%20residue%20targeted.%20In%20general,%20though,%20there%20appears%20to%20be%20high%20redundancy.%20Histone%20acetylation%20is%20notable%20for%20susceptibility%20to%20small%20molecules%20and%20drugs%20that%20target%20histone%20deacetylases.;antibody%20vendorname=abcam;antibody%20vendorid=ab4729;treatment=None;treatment%20description=No%20special%20treatment%20or%20protocol%20applies;control=std;control%20description=Standard%20input%20signal%20for%20most%20experiments.;controlid=wgEncodeEH000060;labversion=Illumina_GA2e%20and%20Illumina_GA2x;replicate=1,3,2;softwareversion=ScriptureVPaperR3;\t332\t.\t9911\t10406\t0,255,171\n",
      "chr1\t9915\t10365\tID=SRX338780;Name=H3K27ac%20(@%20HUVEC);Title=GSM1214676:%20HUVEC%20H3K27Ac%20DMSO%2024hr%20hypoxia%3B%20Homo%20sapiens%3B%20ChIP-Seq;Cell%20group=Cardiovascular;<br>source_name=HUVECs;cell%20type=Human%20umbilical%20vein%20cells;passage=within%206%20passage;chip%20antibody=H3K27Ac;\t625\t.\t9915\t10365\t127,255,0\n",
      "chr1\t9917\t10263\tID=SRX038604;Name=H3K27ac%20(@%20HUVEC);Title=GSM646414:%20Huvec%20H3K27ac%20rep1;Cell%20group=Cardiovascular;<br>source_name=cultured%20HUVEC%20cells;chip%20antibody=H3K27ac;antibody%20manufacturer=Abcam;antibody%20catalog%20number=ab4729;cell%20line=HUVEC;\t384\t.\t9917\t10263\t0,255,118\n",
      "chr1\t9930\t10221\tID=SRX338781;Name=H3K27ac%20(@%20HUVEC);Title=GSM1214677:%20HUVEC%20H3K27Ac%20PPARβ/δagonist%2024hr%20hypoxia%3B%20Homo%20sapiens%3B%20ChIP-Seq;Cell%20group=Cardiovascular;<br>source_name=HUVECs;cell%20type=Human%20umbilical%20vein%20cells;passage=within%206%20passage;chip%20antibody=H3K27Ac;\t512\t.\t9930\t10221\t12,255,0\n",
      "chr1\t9930\t10224\tID=SRX294972;Name=H3K27ac%20(@%20HUVEC);Title=GSM1154045:%20ChIP-Seq%20H3K27ac%20HUVEC%3B%20Homo%20sapiens%3B%20ChIP-Seq;Cell%20group=Cardiovascular;<br>source_name=primary%20HUVEC%20cells;treatment=no%20treat;experiment=ChIP-seq;antibody=H3K27ac%20(Abcam,%20ab4729);restriction%20enzyme=no;\t358\t.\t9930\t10224\t0,255,144\n",
      "chr1\t9934\t10221\tID=SRX338779;Name=H3K27ac%20(@%20HUVEC);Title=GSM1214675:%20HUVEC%20H3K27Ac%20PPARβ/δagonist%2024hr%20normoxia%3B%20Homo%20sapiens%3B%20ChIP-Seq;Cell%20group=Cardiovascular;<br>source_name=HUVECs;cell%20type=Human%20umbilical%20vein%20cells;passage=within%206%20passage;chip%20antibody=H3K27Ac;\t474\t.\t9934\t10221\t0,255,26\n",
      "chr1\t9942\t10343\tID=SRX067508;Name=H3K36me3%20(@%20HUVEC);Title=GSM733757:%20Bernstein%20HUVEC%20H3K36me3;Cell%20group=Cardiovascular;<br>source_name=HUVEC;biomaterial_provider=Lonza;lab=Broad;lab%20description=Bernstein%20-%20Broad%20Institute;datatype=ChipSeq;datatype%20description=Chromatin%20IP%20Sequencing;cell%20organism=human;cell%20description=umbilical%20vein%20endothelial%20cells;antibody%20antibodydescription=rabbit%20polyclonal.%20Antibody%20Target:%20H3K36me3;antibody%20targetdescription=Specific%20for%20histone%20H3%20tri%20methylated%20at%20lysine%2036,%20weakly%20reacts%20with%20H3K36me2.%20Marks%20regions%20of%20RNAPII%20elongation,%20including%20coding%20and%20non-coding%20transcripts.;antibody%20vendorname=abcam;antibody%20vendorid=ab9050;treatment=None;treatment%20description=No%20special%20treatment%20or%20protocol%20applies;control=std;control%20description=Standard%20input%20signal%20for%20most%20experiments.;controlid=wgEncodeEH000060;labversion=Illumina_GA2e%20and%20Illumina_GA2x;replicate=1,3,2;softwareversion=ScriptureVPaperR3;\t176\t.\t9942\t10343\t0,179,255\n"
     ]
    }
   ],
   "source": [
    "%%bash\n",
    "\n",
    "head ../results/Interactor_variant/Rare_P_E.txt\n",
    "zmore ../data/Annotation_Chipseq/His.CDV.10.AllAg.HUVEC.bed.gz | head"
   ]
  },
  {
   "cell_type": "markdown",
   "metadata": {},
   "source": [
    "It was evidently clear that files chipseq altlas needed further cleaning in order to intersect with our Interctoin_varaint annotated files . This first attempt was made to make bed files for bot the dataset."
   ]
  },
  {
   "cell_type": "code",
   "execution_count": 26,
   "metadata": {},
   "outputs": [
    {
     "name": "stdout",
     "output_type": "stream",
     "text": [
      "chr1\t936007\t937557\tchr1:948846:949919:ISG15\n",
      "chr1\t940882\t941757\tchr1:948846:949919:ISG15\n",
      "chr1\t1004619\t1005889\tchr1:948846:949919:ISG15\n",
      "chr1\t1198212\t1198971\tchr1:948846:949919:ISG15\n",
      "chr1\t1244723\t1245867\tchr1:948846:949919:ISG15\n",
      "chr1\t1293377\t1294192\tchr1:948846:949919:ISG15\n",
      "chr1\t1296637\t1297463\tchr1:1298921:1288068:MXRA8\n",
      "chr1\t4019808\t4020519\tchr1:5624130:5624203:MIR4417\n",
      "chr1\t5531144\t5532843\tchr1:5624130:5624203:MIR4417\n",
      "chr1\t6052826\t6053291\tchr1:6094347:6161253:KCNAB2\n"
     ]
    }
   ],
   "source": [
    "%%bash\n",
    "\n",
    "\n",
    "awk '{print $8\"\\t\"$9\"\\t\"$10\"\\t\"$3\":\"$4\":\"$5\":\"$1}' ../results/Interactor_variant/Rare_P_E.txt |sort -k1,1 -k2,2n | head\n",
    "\n",
    "\n",
    "awk '{print $8\"\\t\"$9\"\\t\"$10\"\\t\"$3\":\"$4\":\"$5\":\"$1}' ../results/Interactor_variant/Rare_P_E.txt |\\\n",
    "sort -k1,1 -k2,2n > ../data/P_E_Interaction_Rare.bed\n",
    "awk '{print $8\"\\t\"$9\"\\t\"$10\"\\t\"$3\":\"$4\":\"$5\":\"$1}' ../results/Interactor_variant/Common_P_E.txt |\\\n",
    "sort -k1,1 -k2,2n > ../data/P_E_Interaction_Common.bed\n",
    "awk '{print $8\"\\t\"$9\"\\t\"$10\"\\t\"$3\":\"$4\":\"$5\":\"$1}' ../results/Interactor_variant/Lowfreq_P_E.txt |\\\n",
    "sort -k1,1 -k2,2n > ../data/P_E_Interaction_Low_freq.bed"
   ]
  },
  {
   "cell_type": "markdown",
   "metadata": {},
   "source": [
    "The aim to annotate these rare variants - enhacer regions with methylation marks so we have to overlap above made bed files with methylation marks bed files. In order to find the regions enriched with putative enhancer marks, we decided to use mehtylation marks of two types [H327ac](https://en.wikipedia.org/wiki/H3K27ac) and H3Kme1 . These methylation regions are the hallmakrs for active enhancers in the [regions](https://www.ncbi.nlm.nih.gov/pmc/articles/PMC3857148/pdf/nihms441765.pdf). Thus in the earlier downloaded file we have to make the additional steps to find these annotation marks. In order to do some, we have to first find the number rows  of annotation in the files. This can be done using wc -l command."
   ]
  },
  {
   "cell_type": "code",
   "execution_count": 16,
   "metadata": {},
   "outputs": [
    {
     "name": "stdout",
     "output_type": "stream",
     "text": [
      " 1249971 ../data/Annotation_Chipseq/His.CDV.10.AllAg.HUVEC.bed\n"
     ]
    }
   ],
   "source": [
    "%%bash\n",
    "wc -l ../data/Annotation_Chipseq/His.CDV.10.AllAg.HUVEC.bed"
   ]
  },
  {
   "cell_type": "markdown",
   "metadata": {},
   "source": [
    "Oho snap!!! that a lot of rows to annnotate for. Thus we have to take into consideration only those marks with the ealier annotation status of H3K4me1 and H3K27ac. Lets see how many genomic coordinates we can get. This can be done with the following one liner."
   ]
  },
  {
   "cell_type": "code",
   "execution_count": 20,
   "metadata": {},
   "outputs": [
    {
     "name": "stdout",
     "output_type": "stream",
     "text": [
      "  710103\n"
     ]
    }
   ],
   "source": [
    "%%bash \n",
    "\n",
    "sed '1d' ../data/His.CDV.10.AllAg.HUVEC.bed |\\\n",
    "awk -F '[\\t;=%]' '{print $1\"\\t\"$2\"\\t\"$3\"\\t\"$7}' |\\\n",
    "awk '{if ($4 == \"H3K27ac\" || $4 == \"H3K4me1\") {print $0}}'| wc -l\n"
   ]
  },
  {
   "cell_type": "markdown",
   "metadata": {},
   "source": [
    "Similar pipeline was applied for getting chipseq experiment targetting various transcription factor  from chipseq atlas. However, there were some dubious transcription factor named as Epitope, Thus we removed the it. The following bash script would be efficient enough to remove and output it in effiecient manner."
   ]
  },
  {
   "cell_type": "code",
   "execution_count": 18,
   "metadata": {},
   "outputs": [
    {
     "name": "stdout",
     "output_type": "stream",
     "text": [
      "Overwriting ../src/getTFs.sh\n"
     ]
    }
   ],
   "source": [
    "%%writefile ../src/getTFs.sh\n",
    "#!/bin/bash\n",
    "\n",
    "if [ $# -eq 0 ]\n",
    "then\n",
    "    echo \"Usage: No files from chipatlas supplied\"\n",
    "    exit 1\n",
    "fi \n",
    "\n",
    "for i in $*\n",
    "do\n",
    "    echo $i\n",
    "    name=${i:0:14}\n",
    "    tail=${i:24:33}\n",
    "    echo $name$tail\n",
    "    sed '1d' $i |\\\n",
    "    awk -F '[\\t;=%]' '{print $1\"\\t\"$2\"\\t\"$3\"\\t\"$7}'  > $name$tail \n",
    "    ## Currently hardcoded to output the files to data folder the filtered files \n",
    "done"
   ]
  },
  {
   "cell_type": "code",
   "execution_count": 22,
   "metadata": {},
   "outputs": [
    {
     "name": "stdout",
     "output_type": "stream",
     "text": [
      "../data/Oth.CDV.10.AllAg.HUVEC.bed\n",
      "../data/Oth.CD.HUVEC.bed\n",
      "../data/DNS.CDV.10.AllAg.HUVEC.bed\n",
      "../data/DNS.CD.HUVEC.bed\n",
      "chr1\t9821\t10363\tMEF2C\n",
      "chr1\t9851\t10439\tMEF2C\n",
      "chr1\t9862\t10323\tGATA2\n",
      "chr1\t9868\t10392\tGATA2\n",
      "chr1\t9880\t10436\tNFATC1\n",
      "chr1\t9886\t10367\tGATA2\n",
      "chr1\t9894\t10445\tRELA\n",
      "chr1\t9896\t10451\tEpitope\n",
      "chr1\t9897\t10435\tFOS\n",
      "chr1\t9898\t10432\tNFATC1\n",
      "chr1\t9994\t10233\tDNase-Seq\n",
      "chr1\t10006\t10280\tDNase-Seq\n",
      "chr1\t10016\t10103\tDNase-Seq\n",
      "chr1\t10354\t10474\tDNase-Seq\n",
      "chr1\t11232\t11352\tDNase-Seq\n",
      "chr1\t13312\t13606\tDNase-Seq\n",
      "chr1\t13477\t13566\tDNase-Seq\n",
      "chr1\t29119\t29424\tDNase-Seq\n",
      "chr1\t29247\t29362\tDNase-Seq\n",
      "chr1\t29358\t29385\tDNase-Seq\n",
      "chr1\t9821\t10363\tMEF2C\n",
      "chr1\t9851\t10439\tMEF2C\n",
      "chr1\t9862\t10323\tGATA2\n",
      "chr1\t9868\t10392\tGATA2\n",
      "chr1\t9880\t10436\tNFATC1\n",
      "chr1\t9886\t10367\tGATA2\n",
      "chr1\t9894\t10445\tRELA\n",
      "chr1\t9897\t10435\tFOS\n",
      "chr1\t9898\t10432\tNFATC1\n",
      "chr1\t9898\t10441\tRELA\n"
     ]
    }
   ],
   "source": [
    "%%bash\n",
    "\n",
    "chmod +x ../src/getTFs.sh\n",
    " ../src/getTFs.sh ../data/Oth.CDV.10.AllAg.HUVEC.bed ../data/DNS.CDV.10.AllAg.HUVEC.bed \n",
    " \n",
    " head ../data/Oth.CD.HUVEC.bed\n",
    " head ../data/DNS.CD.HUVEC.bed\n",
    " \n",
    " awk '{if ($4 != \"Epitope\") {print $0}}' ../data/Oth.CD.HUVEC.bed > tmp; mv tmp ../data/Oth.CD.HUVEC.bed \n",
    " head ../data/Oth.CD.HUVEC.bed"
   ]
  },
  {
   "cell_type": "markdown",
   "metadata": {},
   "source": [
    "Since with simple exploration of genomic coordinates we see these files can be made a bed4 files and used for  further manupilaitoin with the python bed files. So I made a bed4 files for both of the original files. There was some contigs regions in the orignial bed files from chipseq. Our interaction data  have only the proper chromosomes such as (Chr1-ChrX). Thus further modification was done in the earlier snippet of one liners thus to get the propere bed4 files."
   ]
  },
  {
   "cell_type": "code",
   "execution_count": 23,
   "metadata": {},
   "outputs": [
    {
     "name": "stdout",
     "output_type": "stream",
     "text": [
      "  707502\n"
     ]
    }
   ],
   "source": [
    "%%bash\n",
    "\n",
    " sed '1d' ../data/His.CDV.10.AllAg.HUVEC.bed |\\\n",
    " awk -F '[\\t;=%]' '{print $1\"\\t\"$2\"\\t\"$3\"\\t\"$7}' |awk '{if ($4 == \"H3K27ac\" || $4 == \"H3K4me1\") {print $0}}' |\\\n",
    " egrep  '(chr[0-9]|chr[0-9][0-9])|(chrX)' |egrep  -v '(chr[0-9]_|chr[0-9][0-9]_)' | wc -l\n",
    " \n"
   ]
  },
  {
   "cell_type": "markdown",
   "metadata": {},
   "source": [
    "This two earlier snippet of commands give the 2 bed4 files that are now can be used in python bedtools. Two new bed files, *P_E_Interaction_Rare.bed* and *His_CDV_2.bed* were made in data folder. This simple example gives us the number of interaction "
   ]
  },
  {
   "cell_type": "code",
   "execution_count": 41,
   "metadata": {},
   "outputs": [
    {
     "name": "stdout",
     "output_type": "stream",
     "text": [
      "chr1\t936007\t937557\tchr1:948846:949919:ISG15\n",
      " chr1\t940882\t941757\tchr1:948846:949919:ISG15\n",
      " chr1\t1004619\t1005889\tchr1:948846:949919:ISG15\n",
      " chr1\t1198212\t1198971\tchr1:948846:949919:ISG15\n",
      " chr1\t1244723\t1245867\tchr1:948846:949919:ISG15\n",
      " chr1\t1293377\t1294192\tchr1:948846:949919:ISG15\n",
      " chr1\t1296637\t1297463\tchr1:1298921:1288068:MXRA8\n",
      " chr1\t4019808\t4020519\tchr1:5624130:5624203:MIR4417\n",
      " chr1\t5531144\t5532843\tchr1:5624130:5624203:MIR4417\n",
      " chr1\t6052826\t6053291\tchr1:6094347:6161253:KCNAB2\n",
      " chr1\t9911\t10406\tH3K27ac\n",
      " chr1\t9915\t10365\tH3K27ac\n",
      " chr1\t9917\t10263\tH3K27ac\n",
      " chr1\t9930\t10221\tH3K27ac\n",
      " chr1\t9930\t10224\tH3K27ac\n",
      " chr1\t9934\t10221\tH3K27ac\n",
      " chr1\t9951\t10213\tH3K27ac\n",
      " chr1\t9966\t10242\tH3K4me1\n",
      " chr1\t9974\t10265\tH3K4me1\n",
      " chr1\t10003\t10228\tH3K27ac\n",
      " chr1\t936007\t937557\tchr1:948846:949919:ISG15\tchr1\t935622\t936294\tH3K27ac\t287\n",
      " chr1\t936007\t937557\tchr1:948846:949919:ISG15\tchr1\t935622\t936296\tH3K27ac\t289\n",
      " chr1\t936007\t937557\tchr1:948846:949919:ISG15\tchr1\t935642\t936215\tH3K27ac\t208\n",
      " chr1\t936007\t937557\tchr1:948846:949919:ISG15\tchr1\t935648\t936192\tH3K27ac\t185\n",
      " chr1\t936007\t937557\tchr1:948846:949919:ISG15\tchr1\t935877\t936232\tH3K27ac\t225\n",
      " chr1\t936007\t937557\tchr1:948846:949919:ISG15\tchr1\t935881\t936135\tH3K27ac\t128\n",
      " chr1\t936007\t937557\tchr1:948846:949919:ISG15\tchr1\t935902\t936123\tH3K27ac\t116\n",
      " chr1\t936007\t937557\tchr1:948846:949919:ISG15\tchr1\t935903\t936257\tH3K27ac\t250\n",
      " chr1\t936007\t937557\tchr1:948846:949919:ISG15\tchr1\t935903\t936267\tH3K27ac\t260\n",
      " chr1\t936007\t937557\tchr1:948846:949919:ISG15\tchr1\t935906\t936161\tH3K27ac\t154\n",
      " "
     ]
    },
    {
     "data": {
      "text/plain": [
       "32466"
      ]
     },
     "execution_count": 41,
     "metadata": {},
     "output_type": "execute_result"
    }
   ],
   "source": [
    "import pybedtools \n",
    "\n",
    "interaction_bed = pybedtools.BedTool('../data/P_E_Interaction_Rare.bed')\n",
    "hist_mod_bed = pybedtools.BedTool('../data/His_CDV_2.bed')\n",
    "\n",
    "interaction_bed.head()\n",
    "hist_mod_bed.head()\n",
    "\n",
    "interaction_and_hist = interaction_bed.intersect(hist_mod_bed, wo = True)\n",
    "\n",
    "interaction_and_hist.head()\n",
    "interaction_and_hist.count()\n",
    "\n"
   ]
  },
  {
   "cell_type": "markdown",
   "metadata": {
    "collapsed": true
   },
   "source": [
    "Using the earlier concepts and I made a new script called **genome.tf.py** that would take the result from the earlier vcfmanipulation.py from earlier analysis and take annotation files (in the earlier example Histone modification files). Now I am developing it such that it would take multiple annotation files and append the information in the earlier VCF manipulation files.\n",
    "\n",
    "\n",
    "### Update on Sep 30 2017.\n",
    "\n",
    "After working with the script for couple of days, a new script is made that takes all the individual interaction files, bed files of annotated, and individual bed files of non coding elements and annotetes individual enhancer regions. "
   ]
  },
  {
   "cell_type": "code",
   "execution_count": 30,
   "metadata": {},
   "outputs": [],
   "source": [
    "%%bash\n",
    "\n",
    "#python ../src/genome_tf.py ../results/Interactor_variant/Rare_P_E.txt ../data/P_E_Interaction_Rare.bed ../data/DNS.CD.HUVEC.bed ../data/His_CDV_2.bed ../data/Oth.CD.HUVEC.bed  -o ../results/Interactor_variant/Rare_P_E_TFs.txt\n",
    "#python ../src/genome_tf.py ../results/Interactor_variant/Common_P_E.txt ../data/P_E_Interaction_Common.bed ../data/DNS.CD.HUVEC.bed ../data/His_CDV_2.bed ../data/Oth.CD.HUVEC.bed  -o ../results/Interactor_variant/Common_P_E_TFs.txt\n",
    "#python ../src/genome_tf.py ../results/Interactor_variant/Lowfreq_P_E.txt ../data/P_E_Interaction_Low_freq.bed ../data/DNS.CD.HUVEC.bed ../data/His_CDV_2.bed ../data/Oth.CD.HUVEC.bed  -o ../results/Interactor_variant/Low_P_E_TFs.txt\n"
   ]
  },
  {
   "cell_type": "code",
   "execution_count": 42,
   "metadata": {
    "collapsed": true
   },
   "outputs": [],
   "source": [
    "### Further visualization and manipulation of P_E data with further annotation\n",
    "\n",
    "import numpy as np\n",
    "import pandas as pd\n",
    "import matplotlib.mlab as mlab\n",
    "import matplotlib.pyplot as plt\n",
    "\n",
    "Low_freq = pd.read_csv('../results/Interactor_variant/Low_Freq_P_E_TFs.txt', sep='\\t',header=None, index_col =0)\n",
    "Common = pd.read_csv('../results/Interactor_variant/Common_P_E_TFs.txt', sep='\\t',header=None, index_col =0)\n",
    "Rare = pd.read_csv('../results/Interactor_variant/Rare_P_E_TFs.txt', sep='\\t',header=None, index_col =0)\n",
    "\n"
   ]
  },
  {
   "cell_type": "markdown",
   "metadata": {},
   "source": [
    "---------------------------------------"
   ]
  },
  {
   "cell_type": "markdown",
   "metadata": {},
   "source": [
    "### GO-Ontology of interaction data with annotation of Rare variants\n",
    "\n",
    "In order to find the any biological process that had been enriched in our interaction data, we set to do GO enrichment analysis in our dataser. Again we have to download GO term from some database, we used following (quickGO)[https://www.ebi.ac.uk/QuickGO-Old/]. From this database we subsetted to  following parameters to get the final output file. \n",
    "IDmapping was checked for following tags\n",
    "* UniprotKB\n",
    "* GeneID\n",
    "* HGNC\n",
    "* Refseq\n",
    "\n",
    "Similarly, for filter annotation again we checked the following box\n",
    "* Taxon = Human\n",
    "* Evidence = Manual Experimental i.e IMP,IGI,IPI,IDA,IEP,EXP\n",
    "* Aspect = Biological process \n",
    "\n",
    "We used these subsetting in order to make the GO terms that are true with experimental evidences. Additionally, to limit our results to fine subset. This would give us 44,565 GO for 8,569 proteins. This is download form (this website)[https://www.ebi.ac.uk/QuickGO-Old/GAnnotation] and download as gzip files and stored in data folder as association as .gzfiles. As shown in following table, this file consists of different columns subc as datbase symbols Qualifier, GOterm and GOID, Evidences name and symbols. This is quite raw format and would like to process with the earlier Rare_varaints_annaotated interaction data to get the GO terms that each gene would be present to."
   ]
  },
  {
   "cell_type": "code",
   "execution_count": 6,
   "metadata": {},
   "outputs": [
    {
     "name": "stdout",
     "output_type": "stream",
     "text": [
      "DB\tID\tSymbol\tQualifier\tGO ID\tGO Name\tAspect\tOriginal GO ID\tOriginal GO Name\tEvidence\tReference\tName\tSynonym\n",
      "UniProtKB\tA0A087WUF6\tFGF2\t-\tGO:0014843\tgrowth factor dependent regulation of skeletal muscle satellite cell proliferation\tProcess\tGO:0014843\tgrowth factor dependent regulation of skeletal muscle satellite cell proliferation\tIMP\tPMID:18602469\tFibroblast growth factor\tA0A087WUF6_HUMAN|FGF2\n",
      "UniProtKB\tA0A087X1C5\tCYP2D7\t-\tGO:0006805\txenobiotic metabolic process\tProcess\tGO:0006805\txenobiotic metabolic process\tIDA\tPMID:15051713\tPutative cytochrome P450 2D7\tCP2D7_HUMAN|CYP2D7\n",
      "UniProtKB\tA0A087X1C5\tCYP2D7\t-\tGO:0042738\texogenous drug catabolic process\tProcess\tGO:0042738\texogenous drug catabolic process\tIDA\tPMID:15051713\tPutative cytochrome P450 2D7\tCP2D7_HUMAN|CYP2D7\n",
      "UniProtKB\tA0A087X1C5\tCYP2D7\tNOT\tGO:0006805\txenobiotic metabolic process\tProcess\tGO:0006805\txenobiotic metabolic process\tIDA\tPMID:18838503\tPutative cytochrome P450 2D7\tCP2D7_HUMAN|CYP2D7\n",
      "UniProtKB\tA0A087X1C5\tCYP2D7\tNOT\tGO:0042738\texogenous drug catabolic process\tProcess\tGO:0042738\texogenous drug catabolic process\tIDA\tPMID:18838503\tPutative cytochrome P450 2D7\tCP2D7_HUMAN|CYP2D7\n",
      "UniProtKB\tA0A0C5B5G6\tMT-RNR1\t-\tGO:0032147\tactivation of protein kinase activity\tProcess\tGO:0032147\tactivation of protein kinase activity\tIDA\tPMID:25738459\tMitochondrial-derived peptide MOTS-c\tMOTSC_HUMAN|MT-RNR1\n",
      "UniProtKB\tA0A0C5B5G6\tMT-RNR1\t-\tGO:0043610\tregulation of carbohydrate utilization\tProcess\tGO:0043610\tregulation of carbohydrate utilization\tIDA\tPMID:25738459\tMitochondrial-derived peptide MOTS-c\tMOTSC_HUMAN|MT-RNR1\n",
      "UniProtKB\tA0A0C5B5G6\tMT-RNR1\t-\tGO:0072522\tpurine-containing compound biosynthetic process\tProcess\tGO:0072522\tpurine-containing compound biosynthetic process\tIDA\tPMID:25738459\tMitochondrial-derived peptide MOTS-c\tMOTSC_HUMAN|MT-RNR1\n",
      "UniProtKB\tA0A0K2S4Q6\tLOC100130520\t-\tGO:0001816\tcytokine production\tProcess\tGO:0001816\tcytokine production\tIDA\tPMID:26221034\tCD300H\tA0A0K2S4Q6_HUMAN|LOC100130520\n"
     ]
    }
   ],
   "source": [
    "%%bash \n",
    "\n",
    "gzip -cd ../data/associations.tsv.gz |head\n",
    "gunzip ../data/associations.tsv.gz"
   ]
  },
  {
   "cell_type": "markdown",
   "metadata": {},
   "source": [
    "However, it is better organize the data into some sorted form before feeding into python program so that it would be easier to work. "
   ]
  },
  {
   "cell_type": "code",
   "execution_count": 8,
   "metadata": {},
   "outputs": [
    {
     "name": "stdout",
     "output_type": "stream",
     "text": [
      "DB\tID\tSymbol\tQualifier\tGO ID\tGO Name\tAspect\tOriginal GO ID\tOriginal GO Name\tEvidence\tReference\tName\tSynonym\n",
      "UniProtKB\tO60313\tOPA1\t-\tGO:0000002\tmitochondrial genome maintenance\tProcess\tGO:0000002\tmitochondrial genome maintenance\tIMP\tPMID:18158317\tDynamin-like 120 kDa protein, mitochondrial\tOPA1_HUMAN|OPA1|KIAA0567\n",
      "UniProtKB\tP19971\tTYMP\t-\tGO:0000002\tmitochondrial genome maintenance\tProcess\tGO:0000002\tmitochondrial genome maintenance\tIMP\tPMID:9924029\tThymidine phosphorylase\tTYPH_HUMAN|TYMP|ECGF1\n",
      "UniProtKB\tP39210\tMPV17\t-\tGO:0000002\tmitochondrial genome maintenance\tProcess\tGO:0000002\tmitochondrial genome maintenance\tIMP\tPMID:16582910\tProtein Mpv17\tMPV17_HUMAN|MPV17\n",
      "UniProtKB\tQ96CQ1\tSLC25A36\t-\tGO:0000002\tmitochondrial genome maintenance\tProcess\tGO:0000002\tmitochondrial genome maintenance\tIDA\tPMID:25320081\tSolute carrier family 25 member 36\tS2536_HUMAN|SLC25A36\n",
      "UniProtKB\tQ9BQP7\tMGME1\t-\tGO:0000002\tmitochondrial genome maintenance\tProcess\tGO:0000002\tmitochondrial genome maintenance\tIMP\tPMID:23313956\tMitochondrial genome maintenance exonuclease 1\tMGME1_HUMAN|MGME1|C20orf72|DDK1\n",
      "UniProtKB\tQ9BSK2\tSLC25A33\t-\tGO:0000002\tmitochondrial genome maintenance\tProcess\tGO:0000002\tmitochondrial genome maintenance\tIDA\tPMID:25320081\tSolute carrier family 25 member 33\tS2533_HUMAN|SLC25A33\n",
      "UniProtKB\tQ9Y243\tAKT3\t-\tGO:0000002\tmitochondrial genome maintenance\tProcess\tGO:0000002\tmitochondrial genome maintenance\tIMP\tPMID:18524868\tRAC-gamma serine/threonine-protein kinase\tAKT3_HUMAN|AKT3|PKBG\n",
      "UniProtKB\tO75900\tMMP23A\t-\tGO:0000003\treproduction\tProcess\tGO:0000003\treproduction\tIEP\tPMID:9988691\tMatrix metalloproteinase-23\tMMP23_HUMAN|MMP23A|MMP23B|MMP21|MMP21|MMP22\n",
      "UniProtKB\tP09430\tTNP1\t-\tGO:0000012\tsingle strand break repair\tProcess\tGO:0000012\tsingle strand break repair\tIDA\tPMID:12743712\tSpermatid nuclear transition protein 1\tSTP1_HUMAN|TNP1\n"
     ]
    }
   ],
   "source": [
    "%%bash\n",
    "\n",
    "(head -n 1 ../data/associations.tsv && tail -n +2 ../data/associations.tsv |\\\n",
    "sort -k 5,5) > ../data/sorted_association.tsv\n",
    "\n",
    "head ../data/sorted_association.tsv"
   ]
  },
  {
   "cell_type": "markdown",
   "metadata": {
    "collapsed": true
   },
   "source": [
    "Now the following called Gene_ontology is written in python that takes these sorted assciation tsv files and gives the numeber of interaction genes in Go terms that are enriched in current analysis."
   ]
  },
  {
   "cell_type": "markdown",
   "metadata": {
    "collapsed": true
   },
   "source": [
    "Following python script called as Gene_ontology.py was written and run in order to find the gene ontology analysis for interaction files. The code is run as follows:"
   ]
  },
  {
   "cell_type": "code",
   "execution_count": 2,
   "metadata": {
    "collapsed": true
   },
   "outputs": [],
   "source": [
    "%%bash\n",
    "\n",
    "python ../src/Gene_ontology.py  ../data/sorted_association.tsv  ../data/tmp.txt  -o ../data/GO_Term.txt  "
   ]
  },
  {
   "cell_type": "code",
   "execution_count": null,
   "metadata": {
    "collapsed": true
   },
   "outputs": [],
   "source": []
  }
 ],
 "metadata": {
  "kernelspec": {
   "display_name": "Python 3",
   "language": "python",
   "name": "python3"
  },
  "language_info": {
   "codemirror_mode": {
    "name": "ipython",
    "version": 3
   },
   "file_extension": ".py",
   "mimetype": "text/x-python",
   "name": "python",
   "nbconvert_exporter": "python",
   "pygments_lexer": "ipython3",
   "version": "3.6.1"
  }
 },
 "nbformat": 4,
 "nbformat_minor": 2
}
