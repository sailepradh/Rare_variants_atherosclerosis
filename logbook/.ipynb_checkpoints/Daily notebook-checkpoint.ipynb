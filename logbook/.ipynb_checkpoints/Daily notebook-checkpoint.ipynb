{
 "cells": [
  {
   "cell_type": "markdown",
   "metadata": {},
   "source": [
    "July - August 2017\n",
    "\n",
    "\n",
    "* Work completed \n",
    "    - Understood the format of the HiCAp data from project\n",
    "    - Downloaded the 1000 Sweden frequency data\n",
    "    - Using the VCFtools filtered and seperated into INdel and SNPs \n",
    "    - Took into consideration passed tagged SNPs and started to work out with it\n",
    "    - Created a rough python script that would take allele frequncy from vcf files and overlap with interaction dataset\n",
    "    \n",
    "* Work needed to be done\n",
    "    - Make the script robust so that based on the allele frequency it would make multiple argument of Rare, Common and Low frequency and ouutput corresponding interaction files of these frequency appended for example:\n",
    "    python vcfmaipulation.py  InteractioData.txt -Rare --outuput interaction_common.txt\n",
    "    \n",
    "    - Append the functional Transcription factor and methylation (H3Kme4, H4ac27) annotation to these regions\n",
    "    \n",
    "    - Calcualte the enriched transcription factors in those regions\n",
    "    \n",
    " "
   ]
  },
  {
   "cell_type": "markdown",
   "metadata": {},
   "source": [
    "Sep 18 2017\n",
    "\n",
    "Today work:\n",
    "\n",
    "* Make use of argparser in vafmanipulation python script so that it would take txt and vcf file from terminal\n",
    "* Use of function to output rare, common and low frequency variants from Swedgen "
   ]
  },
  {
   "cell_type": "code",
   "execution_count": null,
   "metadata": {
    "collapsed": true
   },
   "outputs": [],
   "source": []
  }
 ],
 "metadata": {
  "kernelspec": {
   "display_name": "Python 3",
   "language": "python",
   "name": "python3"
  },
  "language_info": {
   "codemirror_mode": {
    "name": "ipython",
    "version": 3
   },
   "file_extension": ".py",
   "mimetype": "text/x-python",
   "name": "python",
   "nbconvert_exporter": "python",
   "pygments_lexer": "ipython3",
   "version": "3.6.1"
  }
 },
 "nbformat": 4,
 "nbformat_minor": 2
}
