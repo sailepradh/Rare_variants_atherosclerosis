{
 "cells": [
  {
   "cell_type": "markdown",
   "metadata": {},
   "source": [
    "## July - August 2017\n",
    "\n",
    "\n",
    "* Work completed \n",
    "    - Understood the format of the HiCAp data from project\n",
    "    - Downloaded the 1000 Sweden frequency data\n",
    "    - Using the VCFtools filtered and seperated into INdel and SNPs \n",
    "    - Took into consideration passed tagged SNPs and started to work out with it\n",
    "    - Created a rough python script that would take allele frequncy from vcf files and overlap with interaction dataset\n",
    "    \n",
    "* Work needed to be done\n",
    "    - Make the script robust so that based on the allele frequency it would make multiple argument of Rare, Common and Low frequency and ouutput corresponding interaction files of these frequency appended for example:\n",
    "    python vcfmaipulation.py  InteractioData.txt -Rare --outuput interaction_common.txt\n",
    "    \n",
    "    - Append the functional Transcription factor and methylation (H3Kme4, H4ac27) annotation to these regions\n",
    "    \n",
    "    - Calcualte the enriched transcription factors in those regions\n",
    "    \n",
    " "
   ]
  },
  {
   "cell_type": "markdown",
   "metadata": {},
   "source": [
    "Preprocessing of BAV P-E dataset \n",
    "\n",
    "We find the BAV dataset and it contiand following information in its corresponding columns:\n",
    "* RefSeqName\n",
    "* TranscriptName\n",
    "* Feature_ID\n",
    "* Probe_ID\n",
    "* Feature_Chr\n",
    "* Feature_Start\n",
    "* Feature_End\n",
    "* Annotation\n",
    "* Strand\n",
    "* Interactor_Chr\n",
    "* Interactor_Start\n",
    "* Interactor_End\n",
    "* distance\n",
    "* BAV_rep1_SuppPairs\n",
    "* BAV_rep1_p_value\n",
    "* BAV_rep1.SuppPairs_combination\n",
    "* BAV_rep2_SuppPairs\n",
    "* BAV_rep2_p_value\n",
    "* BAV_rep2.SuppPairs_combination\n",
    "\n",
    "The following command was used for finding the average interaction change in each rows. Since the information change in BAV_rep1_SuppPairs i.e 14 and BAV_rep2_SuppPairs i.e 17 ."
   ]
  },
  {
   "cell_type": "code",
   "execution_count": 1,
   "metadata": {},
   "outputs": [
    {
     "name": "stdout",
     "output_type": "stream",
     "text": [
      "20.3878\n",
      "13.9396\n"
     ]
    }
   ],
   "source": [
    "%%bash\n",
    "\n",
    "awk '{ sum += $14; n++ } END { if (n > 0) print sum / n; }' ../data/BAV_HiCap/BAV_P-E_InteractionDataset.txt \n",
    "awk '{ sum += $17; n++ } END { if (n > 0) print sum / n; }' ../data/BAV_HiCap/BAV_P-E_InteractionDataset.txt "
   ]
  },
  {
   "cell_type": "code",
   "execution_count": 2,
   "metadata": {},
   "outputs": [
    {
     "name": "stdout",
     "output_type": "stream",
     "text": [
      "['ABLIM1', 'NM_001003407', 'ABLIM1_116444414', 'NM_001003407_refseq', 'chr10', '116444414', '116190868', '1', '-', 'chr10', '116149220', '116150098', '-295194', '9', '0.000141264', '1_2_0_6', '6', '3.41323e-05', '0_0_5_1']\n",
      "-295194\n"
     ]
    }
   ],
   "source": [
    "import numpy as np\n",
    "import matplotlib.mlab as mlab\n",
    "import matplotlib.pyplot as plt\n",
    "\n",
    "with open (\"../data/BAV_HiCap/BAV_P-E_InteractionDataset.txt\", 'r') as f:\n",
    "    for line in f:\n",
    "        A = line.strip().split(\"\\t\")\n",
    "        print(A)\n",
    "        print(A[12])\n",
    "        break"
   ]
  },
  {
   "cell_type": "code",
   "execution_count": 3,
   "metadata": {},
   "outputs": [
    {
     "data": {
      "image/png": "[encoded data removed]",
      "text/plain": [
       "<matplotlib.figure.Figure at 0x10a4f1518>"
      ]
     },
     "metadata": {},
     "output_type": "display_data"
    },
    {
     "name": "stdout",
     "output_type": "stream",
     "text": [
      "8259 20700 3334 1030\n"
     ]
    }
   ],
   "source": [
    "import numpy as np\n",
    "import pandas as pd\n",
    "import matplotlib.mlab as mlab\n",
    "import matplotlib.pyplot as plt\n",
    "\n",
    "data = pd.read_csv('../data/BAV_HiCap/BAV_P-E_InteractionDataset.txt', sep='\\t',\n",
    "                   header=None, index_col =0)\n",
    "\n",
    "fig, axes = plt.subplots(nrows=2,ncols =2, figsize=(12, 8))\n",
    "ax0, ax1, ax2, ax3 = axes.flatten()\n",
    "\n",
    "A =  np.array(abs(data[12]))\n",
    "A_50kb = [i for i in A if i < 50000]\n",
    "A_50_500kb = [i for i in A if i >= 50000 and i < 500000 ]\n",
    "A_500_1Mb = [i for i in A if i >= 500000 and i < 1000000]\n",
    "A_1Mb = [i for i in A if i > 1000000]\n",
    "\n",
    "ax0.hist(A_50kb, histtype='bar', rwidth=0.85, facecolor='g')\n",
    "ax0.set_title('Enhancer distribution < 50 kb')\n",
    "ax0.set_xlabel (\"Enhancer Length\")\n",
    "ax0.set_ylabel (\"Frequency\")\n",
    "\n",
    "ax1.hist(A_50_500kb, histtype='bar', rwidth=0.85)\n",
    "ax1.set_title('Enhancer distribution within 50-500 kb')\n",
    "ax1.set_xlabel (\"Enhancer Length\")\n",
    "ax1.set_ylabel (\"Frequency\")\n",
    "\n",
    "ax2.hist(A_500_1Mb, histtype='bar', rwidth=0.85)\n",
    "ax2.set_title('Enhancer distribution within 500kb - 1Mb')\n",
    "ax2.set_xlabel (\"Enhancer Length\")\n",
    "ax2.set_ylabel (\"Frequency\")\n",
    "\n",
    "ax3.hist(A_1Mb, histtype='bar', rwidth=0.85)\n",
    "ax3.set_title('Enhancer distribution > 1Mb')\n",
    "ax3.set_xlabel (\"Enhancer Length\")\n",
    "ax3.set_ylabel (\"Frequency\")\n",
    "\n",
    "fig.tight_layout()\n",
    "plt.show()\n",
    "\n",
    "\n",
    "fig.savefig('../results/length_distribution.png')\n",
    "print (len(A_50kb), len(A_50_500kb), len(A_500_1Mb), len(A_1Mb))"
   ]
  },
  {
   "cell_type": "markdown",
   "metadata": {},
   "source": [
    "### August 18 2017 - Sep 05 2017\n",
    "\n",
    "Work progress:\n",
    "\n",
    "* Make use of argparser in vafmanipulation python script so that it would take txt and vcf file from terminal\n",
    "* Use of function to output rare, common and low frequency variants from Swedgen.\n",
    "\n",
    "\n",
    "I rewrote the script called as test_2.py (which I aim to rename better but at the current point it is just test script) which can now take both P-E and P-P interaction dataset. There was columns that reappered in P-P dataset which was not taekn into consideration in earlier script. By using an additional loops the script , now it can take any kind of interaction data and output the variants and number of variants in enhnacer. This script provides the genetic profile (that is common, rare and low frequency variants) of individual enhancer region.\n",
    "\n",
    "(Run the script as below)"
   ]
  },
  {
   "cell_type": "code",
   "execution_count": 4,
   "metadata": {},
   "outputs": [
    {
     "name": "stdout",
     "output_type": "stream",
     "text": [
      "ABLIM1\tNM_001003407\tchr10\t116444414\t116190868\t1\t-\tchr10\t116149220\t116150098\t-295194\t10,116149608,('C', 'G'),21:10,116149806,('C', 'T'),24:2\n",
      "ABLIM1\tNM_001003407\tchr10\t116444414\t116190868\t1\t-\tchr10\t116296244\t116297264\t-148170\t10,116296559,('C', 'T'),25:1\n",
      "ABLIM1\tNM_001003407\tchr10\t116444414\t116190868\t1\t-\tchr10\t116313369\t116314228\t-131045\t10,116313372,('T', 'A'),25:10,116313876,('C', 'T'),44:2\n",
      "ABLIM1\tNM_001003407\tchr10\t116444414\t116190868\t1\t-\tchr10\t116332549\t116333287\t-111865\t10,116332591,('C', 'A'),27:10,116332800,('C', 'A'),27:2\n",
      "ABLIM1\tNM_001003407\tchr10\t116444414\t116190868\t1\t-\tchr10\t116384045\t116384773\t-60369\t10,116384447,('C', 'T'),29:10,116384509,('A', 'G'),40:2\n",
      "ABLIM1\tNM_001003407\tchr10\t116444414\t116190868\t1\t-\tchr10\t116411151\t116413213\t-33263\t10,116411679,('T', 'G'),28:10,116412310,('C', 'T'),29:2\n",
      "ABLIM1\tNM_001003407\tchr10\t116444414\t116190868\t1\t-\tchr10\t116414549\t116415191\t-29865\t10,116414562,('C', 'T'),24:10,116414571,('A', 'G'),38:2\n",
      "ABLIM1\tNM_001003407\tchr10\t116444414\t116190868\t1\t-\tchr10\t116417496\t116417640\t-26918\t10,116417549,('C', 'T'),30:1\n",
      "ABLIM1\tNM_001003407\tchr10\t116444414\t116190868\t1\t-\tchr10\t116418504\t116419510\t-25910\t10,116419146,('T', 'C'),29:1\n",
      "ABLIM1\tNM_001003407\tchr10\t116444414\t116190868\t1\t-\tchr10\t116420960\t116421844\t-23454\t10,116421406,('A', 'G'),29:1\n"
     ]
    }
   ],
   "source": [
    "%%bash\n",
    "\n",
    "# python test_2.py ../data/swegen_20161223/SNP_VCF.gz ../data/BAV_HiCap/BAV_P-E_InteractionDataset.txt  Rare  --output ../results/Interactor_variant/Rare_P_E.txt\n",
    "\n",
    "# This commmand line is commented at the moment to make it inactive. However after running the\n",
    "# script you would expect three files of each class in result folder.\n",
    "\n",
    "head ../results/Interactor_variant/Lowfreq_P_E.txt"
   ]
  },
  {
   "cell_type": "markdown",
   "metadata": {},
   "source": [
    "\n",
    "The coresponding last column is the aggregared information of varianttype. It contians information regarding the number of variants, position, Reference and alternate allele, number of individuals seperated by special charavrtes \":\". The last field of this column contians the count of number of variant found in each putatative enhancer section. Further, we can dig into these individual interaction files to find number of enhancer regions with different class of variant type and subsequent analysis. This can be done in python itself."
   ]
  },
  {
   "cell_type": "code",
   "execution_count": 5,
   "metadata": {},
   "outputs": [
    {
     "name": "stdout",
     "output_type": "stream",
     "text": [
      "The number of ehancer in Common 22055 and corresponding variant counts is 56891\n",
      "The number of ehancer in low frequency 14403 and corresponding variants count is 24049\n",
      "The number of ehancer in Rare 22144 and corresponding sum of variants count is 47281\n"
     ]
    }
   ],
   "source": [
    "## Python script to manipulate individual variant annotated interaction files\n",
    "\n",
    "import numpy as np\n",
    "import pandas as pd\n",
    "import matplotlib.mlab as mlab\n",
    "import matplotlib.pyplot as plt\n",
    "\n",
    "Low_freq = pd.read_csv('../results/Interactor_variant/Lowfreq_P_E.txt', sep='\\t',header=None, index_col =0)\n",
    "Common = pd.read_csv('../results/Interactor_variant/Common_P_E.txt', sep='\\t',header=None, index_col =0)\n",
    "Rare = pd.read_csv('../results/Interactor_variant/Rare_P_E.txt', sep='\\t',header=None, index_col =0)\n",
    "\n",
    "LowFreq_number = []\n",
    "Common_number =[]\n",
    "Rare_number= []\n",
    "\n",
    "for line in Low_freq[11]:\n",
    "    line = line.strip().split(\":\")\n",
    "    LowFreq_number.append(int(line[-1]))\n",
    "    \n",
    "for line in Common[11]:\n",
    "    line = line.strip().split(\":\")\n",
    "    Common_number.append(int(line[-1]))\n",
    "\n",
    "for line in Rare[11]:\n",
    "    line = line.strip().split(\":\")\n",
    "    Rare_number.append(int(line[-1]))\n",
    "\n",
    "print (\"The number of ehancer in Common \"+  str(len(Common)) + \" and corresponding variant counts is \"+ str(sum(Common_number)))   \n",
    "print (\"The number of ehancer in low frequency \" + str(len(Low_freq))+ \" and corresponding variants count is \" + str(sum(LowFreq_number)))\n",
    "print (\"The number of ehancer in Rare \" + str(len(Rare))+ \" and corresponding sum of variants count is \" + str(sum(Rare_number)))"
   ]
  },
  {
   "cell_type": "code",
   "execution_count": 6,
   "metadata": {
    "collapsed": true
   },
   "outputs": [],
   "source": [
    "import re\n",
    "\n",
    "def getallelecount(numpyarray):\n",
    "    regex = r\"(\\d+\\:\\d+)+\"\n",
    "    allelecount = []\n",
    "    for line in numpyarray:\n",
    "        m = re.finditer(regex, str(line))\n",
    "        for match in m:\n",
    "            freq = match.group().split(\":\")[0]\n",
    "            allelecount.append(freq)\n",
    "    return (allelecount)\n",
    "\n",
    "Common_allele_counts = getallelecount(Common[11])\n",
    "Low_allele_counts = getallelecount(Low_freq[11])\n",
    "Rare_allele_counts = getallelecount(Rare[11]) \n"
   ]
  },
  {
   "cell_type": "code",
   "execution_count": 7,
   "metadata": {},
   "outputs": [
    {
     "name": "stdout",
     "output_type": "stream",
     "text": [
      "56880\n",
      "24044\n",
      "47260\n"
     ]
    }
   ],
   "source": [
    "print (len(Common_allele_counts))\n",
    "#print ((Common_allele_counts)[1:100])\n",
    "print (len(Low_allele_counts))\n",
    "print (len(Rare_allele_counts))"
   ]
  },
  {
   "cell_type": "code",
   "execution_count": 8,
   "metadata": {},
   "outputs": [
    {
     "data": {
      "image/png": "[encoded data removed]",
      "text/plain": [
       "<matplotlib.figure.Figure at 0x10cf32780>"
      ]
     },
     "metadata": {},
     "output_type": "display_data"
    }
   ],
   "source": [
    "import numpy as np\n",
    "import pandas as pd\n",
    "import math\n",
    "import matplotlib.mlab as mlab\n",
    "import matplotlib.pyplot as plt\n",
    "\n",
    "data_Common = [int(i) for i in Common_allele_counts]\n",
    "data_LF = [int(i) for i in Low_allele_counts]\n",
    "data_Rare = [int(i) for i in Rare_allele_counts]\n",
    "\n",
    "fig, (ax0, ax1,ax2) = plt.subplots(ncols=3, figsize=(12, 5))\n",
    "\n",
    "ax0.hist(data_Common, facecolor='g', alpha=0.75, rwidth=0.85)\n",
    "ax0.set_title('Common variant in Enhancer regions')\n",
    "ax0.set_xlabel (\"Allele count in Swe-freq\")\n",
    "ax0.set_ylabel (\"Counts\")\n",
    "\n",
    "ax1.hist(data_LF, facecolor='b', rwidth=0.8)\n",
    "ax1.set_title('Low_freq variant in Enhancer regions')\n",
    "ax1.set_xlabel (\"Allele count in Swe-freq\")\n",
    "ax1.set_ylabel (\"Counts\")\n",
    "\n",
    "ax2.hist(data_Rare, facecolor='r', rwidth=0.8)\n",
    "ax2.set_title('Rare variant in Enhancer regions')\n",
    "ax2.set_xlabel (\"Allele count in Swe-freq\")\n",
    "ax2.set_ylabel (\"Counts\")\n",
    "\n",
    "fig.tight_layout()\n",
    "plt.show()\n",
    "fig.savefig('../results/Distibution_allelecount.png')"
   ]
  },
  {
   "cell_type": "markdown",
   "metadata": {
    "collapsed": true
   },
   "source": [
    "---------------------------------------"
   ]
  },
  {
   "cell_type": "markdown",
   "metadata": {
    "collapsed": true
   },
   "source": [
    "### Sep15 - Oct 1 2017\n",
    "\n",
    "* Made and updated the new script\n",
    "* Made a script for Transcription factor, methylation mark and DNAise hypersensitive elements\n",
    "\n",
    "Here, we have now made the rare, common and low frequency variant annotated list in our earlier outputted file. Now we want to make a script that takes the different functional non coding elements from chipseq atlas and annotates it based on the script. As I want to work with only one file for developing the script, I took rare varaint as model data to make the scripts.\n",
    "\n",
    "Again important thing is to look for the interaction chromosome, start and end postion and using a bedtools interscect, find the regions that are overlapping these regions and annotate based on these regions. I can use a BEDTools already present in the moilou. Howver, I want to write a python script that can be used in python. For this there were two thing to look forward to. Firstly it was whether there are bedtools wrapper for python or not and secondly parse both the output from the VCF manipulation from earlier files.\n",
    "\n",
    "I searched for bedtools wrapper in google and there is [pybedtools](https://pypi.python.org/pypi/pybedtools) module in python. Following the package, I am looking into [github page](https://daler.github.io/pybedtools/index.html). \n",
    "\n",
    "\n",
    "#### Downloading files from Chipseq atlas (browsed on Sep20th 2017)\n",
    "\n",
    "Chipseq atlas, as name suggests have repository of chipseq experiments from different experiments, primary cells and celline data. I downloaded the experimental results for [HUVEC dataset](https://en.wikipedia.org/wiki/Human_umbilical_vein_endothelial_cell). As the name suggests, there are the cells from the endothelial cells. As we are looking in disease pertaining to aortic cell (BAV:- Biscupid aortic valve), we considered into looking into this dataset. Following critera was included while downloading files relating to mehtylation, transcription factor and DNAise data:\n",
    "\n",
    "* Threshold significance of 100\n",
    "* Against all the antigens\n",
    "\n",
    "All the downloaded data set were stored in following /Users/salendrapradh/Documents/Rare_variants_atherosclerosis/data/Annotation_Chipseq\n"
   ]
  },
  {
   "cell_type": "code",
   "execution_count": 9,
   "metadata": {},
   "outputs": [
    {
     "name": "stdout",
     "output_type": "stream",
     "text": [
      "ABLIM1\tNM_001003407\tchr10\t116444414\t116190868\t1\t-\tchr10\t116149220\t116150098\t-295194\t10,116149247,('T', 'C'),3:10,116149344,('T', 'C'),3:10,116149375,('G', 'A'),5:10,116149823,('T', 'C'),3:4\n",
      "ABLIM1\tNM_001003407\tchr10\t116444414\t116190868\t1\t-\tchr10\t116285363\t116286320\t-159051\t10,116285432,('T', 'C'),15:10,116286294,('G', 'A'),8:2\n",
      "track name=\"His (@ HUVEC) 100\" url=\"http://chip-atlas.org/view?id=$$\" gffTags=\"on\"\n",
      "chr1\t9859\t10480\tID=SRX335069;Name=H3K4me3%20(@%20HUVEC);Title=GSM1208344:%20HUVEC%20H3K4me3%20VEGF%201h%3B%20Homo%20sapiens%3B%20ChIP-Seq;Cell%20group=Cardiovascular;<br>source_name=HUVEC_H3K4me3%20VEGF%20plus;cell%20type=human%20umbilical%20vein%20endothelial%20cells;stimulation=VEGF;chip%20antibody=H3K4me3%20(kindly%20provided%20by%20Dr.%20Kimura,%20Osaka%20University);\t970\t.\t9859\t10480\t255,30,0\n"
     ]
    }
   ],
   "source": [
    "%%bash\n",
    "\n",
    "head -n 2 ../results/Interactor_variant/Rare_P_E.txt\n",
    "zmore ../data/Annotation_Chipseq/His.CDV.10.AllAg.HUVEC.bed.gz | head -n 2"
   ]
  },
  {
   "cell_type": "markdown",
   "metadata": {},
   "source": [
    "It was evidently clear that files chipseq altlas needed further cleaning in order to intersect with our Interctoin_varaint annotated files . This first attempt was made to make bed files for bot the dataset."
   ]
  },
  {
   "cell_type": "code",
   "execution_count": 10,
   "metadata": {},
   "outputs": [
    {
     "name": "stdout",
     "output_type": "stream",
     "text": [
      "chr1\t936007\t937557\tchr1:948846:949919:ISG15\n",
      "chr1\t940882\t941757\tchr1:948846:949919:ISG15\n",
      "chr1\t1004619\t1005889\tchr1:948846:949919:ISG15\n",
      "chr1\t1198212\t1198971\tchr1:948846:949919:ISG15\n",
      "chr1\t1244723\t1245867\tchr1:948846:949919:ISG15\n",
      "chr1\t1293377\t1294192\tchr1:948846:949919:ISG15\n",
      "chr1\t1296637\t1297463\tchr1:1298921:1288068:MXRA8\n",
      "chr1\t4019808\t4020519\tchr1:5624130:5624203:MIR4417\n",
      "chr1\t5531144\t5532843\tchr1:5624130:5624203:MIR4417\n",
      "chr1\t6052826\t6053291\tchr1:6094347:6161253:KCNAB2\n"
     ]
    }
   ],
   "source": [
    "%%bash\n",
    "\n",
    "\n",
    "awk '{print $8\"\\t\"$9\"\\t\"$10\"\\t\"$3\":\"$4\":\"$5\":\"$1}' ../results/Interactor_variant/Rare_P_E.txt |sort -k1,1 -k2,2n | head\n",
    "\n",
    "########### Commented out in later tries as the files are already made\n",
    "\n",
    "#awk '{print $8\"\\t\"$9\"\\t\"$10\"\\t\"$3\":\"$4\":\"$5\":\"$1}' ../results/Interactor_variant/Rare_P_E.txt |\\\n",
    "#sort -k1,1 -k2,2n > ../data/P_E_Interaction_Rare.bed\n",
    "#awk '{print $8\"\\t\"$9\"\\t\"$10\"\\t\"$3\":\"$4\":\"$5\":\"$1}' ../results/Interactor_variant/Common_P_E.txt |\\\n",
    "#sort -k1,1 -k2,2n > ../data/P_E_Interaction_Common.bed\n",
    "#awk '{print $8\"\\t\"$9\"\\t\"$10\"\\t\"$3\":\"$4\":\"$5\":\"$1}' ../results/Interactor_variant/Lowfreq_P_E.txt |\\\n",
    "#sort -k1,1 -k2,2n > ../data/P_E_Interaction_Low_freq.bed"
   ]
  },
  {
   "cell_type": "markdown",
   "metadata": {},
   "source": [
    "The aim to annotate these rare variants - enhacer regions with methylation marks so we have to overlap above made bed files with methylation marks bed files. In order to find the regions enriched with putative enhancer marks, we decided to use mehtylation marks of two types [H327ac](https://en.wikipedia.org/wiki/H3K27ac) and H3Kme1 . These methylation regions are the hallmakrs for active enhancers in the [regions](https://www.ncbi.nlm.nih.gov/pmc/articles/PMC3857148/pdf/nihms441765.pdf). Thus in the earlier downloaded file we have to make the additional steps to find these annotation marks. In order to do some, we have to first find the number rows  of annotation in the files. This can be done using wc -l command."
   ]
  },
  {
   "cell_type": "code",
   "execution_count": 11,
   "metadata": {},
   "outputs": [
    {
     "name": "stdout",
     "output_type": "stream",
     "text": [
      " 1249971\n"
     ]
    }
   ],
   "source": [
    "%%bash\n",
    "zmore  ../data/Annotation_Chipseq/His.CDV.10.AllAg.HUVEC.bed.gz | wc -l"
   ]
  },
  {
   "cell_type": "markdown",
   "metadata": {},
   "source": [
    "Oho snap!!! that a lot of rows to annnotate for. Thus we have to take into consideration only those marks with the ealier annotation status of H3K4me1 and H3K27ac. Lets see how many genomic coordinates we can get. This can be done with the following one liner."
   ]
  },
  {
   "cell_type": "code",
   "execution_count": 12,
   "metadata": {},
   "outputs": [
    {
     "name": "stdout",
     "output_type": "stream",
     "text": [
      "  710103\n"
     ]
    }
   ],
   "source": [
    "%%bash \n",
    "\n",
    "sed '1d' ../data/His.CDV.10.AllAg.HUVEC.bed |\\\n",
    "awk -F '[\\t;=%]' '{print $1\"\\t\"$2\"\\t\"$3\"\\t\"$7}' |\\\n",
    "awk '{if ($4 == \"H3K27ac\" || $4 == \"H3K4me1\") {print $0}}'| wc -l\n"
   ]
  },
  {
   "cell_type": "markdown",
   "metadata": {},
   "source": [
    "Similar pipeline was applied for getting chipseq experiment targetting various transcription factor  from chipseq atlas. However, there were some dubious transcription factor named as Epitope, Thus we removed the it. The following bash script would be efficient enough to remove and output it in effiecient manner."
   ]
  },
  {
   "cell_type": "code",
   "execution_count": 18,
   "metadata": {},
   "outputs": [
    {
     "name": "stdout",
     "output_type": "stream",
     "text": [
      "Overwriting ../src/getTFs.sh\n"
     ]
    }
   ],
   "source": [
    "%%writefile ../src/getTFs.sh\n",
    "#!/bin/bash\n",
    "\n",
    "if [ $# -eq 0 ]\n",
    "then\n",
    "    echo \"Usage: No files from chipatlas supplied\"\n",
    "    exit 1\n",
    "fi \n",
    "\n",
    "for i in $*\n",
    "do\n",
    "    echo $i\n",
    "    name=${i:0:14}\n",
    "    tail=${i:24:33}\n",
    "    echo $name$tail\n",
    "    sed '1d' $i |\\\n",
    "    awk -F '[\\t;=%]' '{print $1\"\\t\"$2\"\\t\"$3\"\\t\"$7}'  > $name$tail \n",
    "    ## Currently hardcoded to output the files to data folder the filtered files \n",
    "done"
   ]
  },
  {
   "cell_type": "code",
   "execution_count": 13,
   "metadata": {},
   "outputs": [
    {
     "name": "stdout",
     "output_type": "stream",
     "text": [
      "../data/Oth.CDV.10.AllAg.HUVEC.bed\n",
      "../data/Oth.CD.HUVEC.bed\n",
      "../data/DNS.CDV.10.AllAg.HUVEC.bed\n",
      "../data/DNS.CD.HUVEC.bed\n",
      "chr1\t9821\t10363\tMEF2C\n",
      "chr1\t9851\t10439\tMEF2C\n",
      "chr1\t9862\t10323\tGATA2\n",
      "chr1\t9868\t10392\tGATA2\n",
      "chr1\t9880\t10436\tNFATC1\n",
      "chr1\t9886\t10367\tGATA2\n",
      "chr1\t9894\t10445\tRELA\n",
      "chr1\t9896\t10451\tEpitope\n",
      "chr1\t9897\t10435\tFOS\n",
      "chr1\t9898\t10432\tNFATC1\n",
      "chr1\t9994\t10233\tDNase-Seq\n",
      "chr1\t10006\t10280\tDNase-Seq\n",
      "chr1\t10016\t10103\tDNase-Seq\n",
      "chr1\t10354\t10474\tDNase-Seq\n",
      "chr1\t11232\t11352\tDNase-Seq\n",
      "chr1\t13312\t13606\tDNase-Seq\n",
      "chr1\t13477\t13566\tDNase-Seq\n",
      "chr1\t29119\t29424\tDNase-Seq\n",
      "chr1\t29247\t29362\tDNase-Seq\n",
      "chr1\t29358\t29385\tDNase-Seq\n",
      "chr1\t9821\t10363\tMEF2C\n",
      "chr1\t9851\t10439\tMEF2C\n",
      "chr1\t9862\t10323\tGATA2\n",
      "chr1\t9868\t10392\tGATA2\n",
      "chr1\t9880\t10436\tNFATC1\n",
      "chr1\t9886\t10367\tGATA2\n",
      "chr1\t9894\t10445\tRELA\n",
      "chr1\t9897\t10435\tFOS\n",
      "chr1\t9898\t10432\tNFATC1\n",
      "chr1\t9898\t10441\tRELA\n"
     ]
    }
   ],
   "source": [
    "%%bash\n",
    "\n",
    "chmod +x ../src/getTFs.sh\n",
    " ../src/getTFs.sh ../data/Oth.CDV.10.AllAg.HUVEC.bed ../data/DNS.CDV.10.AllAg.HUVEC.bed \n",
    " \n",
    " head ../data/Oth.CD.HUVEC.bed\n",
    " head ../data/DNS.CD.HUVEC.bed\n",
    " \n",
    " awk '{if ($4 != \"Epitope\") {print $0}}' ../data/Oth.CD.HUVEC.bed > tmp; mv tmp ../data/Oth.CD.HUVEC.bed \n",
    " head ../data/Oth.CD.HUVEC.bed"
   ]
  },
  {
   "cell_type": "markdown",
   "metadata": {},
   "source": [
    "Since with simple exploration of genomic coordinates we see these files can be made a bed4 files and used for  further manupilaitoin with the python bed files. So I made a bed4 files for both of the original files. There was some contigs regions in the orignial bed files from chipseq. Our interaction data  have only the proper chromosomes such as (Chr1-ChrX). Thus further modification was done in the earlier snippet of one liners thus to get the propere bed4 files."
   ]
  },
  {
   "cell_type": "code",
   "execution_count": 14,
   "metadata": {},
   "outputs": [
    {
     "name": "stdout",
     "output_type": "stream",
     "text": [
      "  707502\n"
     ]
    }
   ],
   "source": [
    "%%bash\n",
    "\n",
    " sed '1d' ../data/His.CDV.10.AllAg.HUVEC.bed |\\\n",
    " awk -F '[\\t;=%]' '{print $1\"\\t\"$2\"\\t\"$3\"\\t\"$7}' |awk '{if ($4 == \"H3K27ac\" || $4 == \"H3K4me1\") {print $0}}' |\\\n",
    " egrep  '(chr[0-9]|chr[0-9][0-9])|(chrX)' |egrep  -v '(chr[0-9]_|chr[0-9][0-9]_)' | wc -l\n",
    " \n"
   ]
  },
  {
   "cell_type": "markdown",
   "metadata": {},
   "source": [
    "This two earlier snippet of commands give the 2 bed4 files that are now can be used in python bedtools. Two new bed files, *P_E_Interaction_Rare.bed* and *His_CDV_2.bed* were made in data folder. This simple example gives us the number of interaction "
   ]
  },
  {
   "cell_type": "code",
   "execution_count": 15,
   "metadata": {},
   "outputs": [
    {
     "name": "stdout",
     "output_type": "stream",
     "text": [
      "chr1\t936007\t937557\tchr1:948846:949919:ISG15\n",
      " chr1\t940882\t941757\tchr1:948846:949919:ISG15\n",
      " chr1\t1004619\t1005889\tchr1:948846:949919:ISG15\n",
      " chr1\t1198212\t1198971\tchr1:948846:949919:ISG15\n",
      " chr1\t1244723\t1245867\tchr1:948846:949919:ISG15\n",
      " chr1\t1293377\t1294192\tchr1:948846:949919:ISG15\n",
      " chr1\t1296637\t1297463\tchr1:1298921:1288068:MXRA8\n",
      " chr1\t4019808\t4020519\tchr1:5624130:5624203:MIR4417\n",
      " chr1\t5531144\t5532843\tchr1:5624130:5624203:MIR4417\n",
      " chr1\t6052826\t6053291\tchr1:6094347:6161253:KCNAB2\n",
      " chr1\t9911\t10406\tH3K27ac\n",
      " chr1\t9915\t10365\tH3K27ac\n",
      " chr1\t9917\t10263\tH3K27ac\n",
      " chr1\t9930\t10221\tH3K27ac\n",
      " chr1\t9930\t10224\tH3K27ac\n",
      " chr1\t9934\t10221\tH3K27ac\n",
      " chr1\t9951\t10213\tH3K27ac\n",
      " chr1\t9966\t10242\tH3K4me1\n",
      " chr1\t9974\t10265\tH3K4me1\n",
      " chr1\t10003\t10228\tH3K27ac\n",
      " "
     ]
    }
   ],
   "source": [
    "import pybedtools \n",
    "\n",
    "interaction_bed = pybedtools.BedTool('../data/P_E_Interaction_Rare.bed')\n",
    "hist_mod_bed = pybedtools.BedTool('../data/His_CDV_2.bed')\n",
    "\n",
    "interaction_bed.head()\n",
    "hist_mod_bed.head()\n",
    "\n",
    "interaction_and_hist = interaction_bed.intersect(hist_mod_bed, wo = True)\n",
    "\n",
    "#interaction_and_hist.head()\n",
    "#interaction_and_hist.count()\n",
    "\n"
   ]
  },
  {
   "cell_type": "markdown",
   "metadata": {
    "collapsed": true
   },
   "source": [
    "Using the earlier concepts and I made a new script called **genome.tf.py** that would take the result from the earlier vcfmanipulation.py from earlier analysis and take annotation files (in the earlier example Histone modification files). Now I am developing it such that it would take multiple annotation files and append the information in the earlier VCF manipulation files.\n",
    "\n",
    "\n",
    "### Update on Sep 30 2017.\n",
    "\n",
    "After working with the script for couple of days, a new script is made that takes all the individual interaction files, bed files of annotated, and individual bed files of non coding elements and annotetes individual enhancer regions. "
   ]
  },
  {
   "cell_type": "code",
   "execution_count": 15,
   "metadata": {
    "collapsed": true
   },
   "outputs": [],
   "source": [
    "%%bash\n",
    "\n",
    "## Commented out for secondary runs. Ran in primary runs to give the files needed\n",
    "#python ../src/genome_tf.py ../results/Interactor_variant/Rare_P_E.txt ../data/P_E_Interaction_Rare.bed ../data/DNS.CD.HUVEC.bed ../data/His_CDV_2.bed ../data/Oth.CD.HUVEC.bed  -o ../results/Interactor_variant/Rare_P_E_TFs.txt\n",
    "#python ../src/genome_tf.py ../results/Interactor_variant/Common_P_E.txt ../data/P_E_Interaction_Common.bed ../data/DNS.CD.HUVEC.bed ../data/His_CDV_2.bed ../data/Oth.CD.HUVEC.bed  -o ../results/Interactor_variant/Common_P_E_TFs.txt\n",
    "#python ../src/genome_tf.py ../results/Interactor_variant/Lowfreq_P_E.txt ../data/P_E_Interaction_Low_freq.bed ../data/DNS.CD.HUVEC.bed ../data/His_CDV_2.bed ../data/Oth.CD.HUVEC.bed  -o ../results/Interactor_variant/Low_P_E_TFs.txt\n"
   ]
  },
  {
   "cell_type": "code",
   "execution_count": 62,
   "metadata": {
    "collapsed": true
   },
   "outputs": [],
   "source": [
    "## Function to manipulate individual Common, Low Frequency and Rare a\n",
    "\n",
    "import numpy as np\n",
    "import pandas as pd\n",
    "import matplotlib.mlab as mlab\n",
    "import matplotlib.pyplot as plt\n",
    "\n",
    "def nonfun_ele(pd_dataframe):\n",
    "    '''\n",
    "    Provides the count of DNaise hypersensitivity , methylation marks and transscription factor binding sites\n",
    "    in the resulting P_E_TF dataset. It gives list of elelment in following orders\n",
    "    \n",
    "    [DHS|HMM|TFs, DHS, HMM, TFs, DHS+HMM, DHS+TFs, HMM+TFs, DHS+HMM+TFs]\n",
    "    ''' \n",
    "    a,b,c,d,e,f,g,h = 0,0,0,0,0,0,0,0\n",
    "    for index, rows in pd_dataframe.iterrows():\n",
    "        if rows[12] != '0' or  rows [13] != '0' or rows [14] != '0':\n",
    "            a += 1\n",
    "        if rows[12] != '0':\n",
    "            b += 1\n",
    "        if rows[13] != '0':\n",
    "            c += 1\n",
    "        if rows [14] != '0':\n",
    "            d += 1\n",
    "        if rows[12] != '0' and  rows [13] != '0':\n",
    "            e += 1\n",
    "        if rows [12] != '0' and rows [14] != '0':\n",
    "            f += 1\n",
    "        if rows[13] != '0' and rows [14] != '0':\n",
    "            g += 1\n",
    "        if rows[12] != '0' and  rows [13] != '0' and rows [14] != '0':\n",
    "            h += 1\n",
    "    return([a,b,c,d,e,f,g,h])\n",
    "        \n",
    "Low_freq = pd.read_csv('../results/Interactor_variant/Low_Freq_P_E_TFs.txt', sep='\\t',header=None, index_col =0)\n",
    "Common = pd.read_csv('../results/Interactor_variant/Common_P_E_TFs.txt', sep='\\t',header=None, index_col =0)\n",
    "Rare = pd.read_csv('../results/Interactor_variant/Rare_P_E_TFs.txt', sep='\\t',header=None, index_col =0)\n",
    "\n",
    "tmp1 = Common[[12,13,14]] \n",
    "TF_status_Common = nonfun_ele(tmp1)\n",
    "\n",
    "tmp2 = Low_freq[[12,13,14]] \n",
    "TF_status_LF = nonfun_ele(tmp2)\n",
    "\n",
    "tmp3 = Rare[[12,13,14]] \n",
    "TF_status_Rare = nonfun_ele(tmp3)\n",
    "\n",
    "TF_status =  np.vstack((TF_status_Common,TF_status_LF,TF_status_Rare))"
   ]
  },
  {
   "cell_type": "code",
   "execution_count": 17,
   "metadata": {},
   "outputs": [
    {
     "data": {
      "text/plain": [
       "array([[5087, 3350, 3029, 3416, 2042, 2487, 1744, 1565],\n",
       "       [3407, 2276, 2038, 2356, 1393, 1736, 1229, 1095],\n",
       "       [5178, 3440, 3097, 3524, 2114, 2587, 1820, 1638]])"
      ]
     },
     "execution_count": 17,
     "metadata": {},
     "output_type": "execute_result"
    }
   ],
   "source": [
    "TF_status"
   ]
  },
  {
   "cell_type": "code",
   "execution_count": 18,
   "metadata": {},
   "outputs": [
    {
     "data": {
      "text/html": [
       "<div>\n",
       "<style>\n",
       "    .dataframe thead tr:only-child th {\n",
       "        text-align: right;\n",
       "    }\n",
       "\n",
       "    .dataframe thead th {\n",
       "        text-align: left;\n",
       "    }\n",
       "\n",
       "    .dataframe tbody tr th {\n",
       "        vertical-align: top;\n",
       "    }\n",
       "</style>\n",
       "<table border=\"1\" class=\"dataframe\">\n",
       "  <thead>\n",
       "    <tr style=\"text-align: right;\">\n",
       "      <th></th>\n",
       "      <th>at_least_one</th>\n",
       "      <th>DNS</th>\n",
       "      <th>HM</th>\n",
       "      <th>TFs</th>\n",
       "      <th>DNS+HM</th>\n",
       "      <th>DNS+TFs</th>\n",
       "      <th>HM+TFs</th>\n",
       "      <th>ALL</th>\n",
       "    </tr>\n",
       "  </thead>\n",
       "  <tbody>\n",
       "    <tr>\n",
       "      <th>0</th>\n",
       "      <td>5087</td>\n",
       "      <td>3350</td>\n",
       "      <td>3029</td>\n",
       "      <td>3416</td>\n",
       "      <td>2042</td>\n",
       "      <td>2487</td>\n",
       "      <td>1744</td>\n",
       "      <td>1565</td>\n",
       "    </tr>\n",
       "    <tr>\n",
       "      <th>1</th>\n",
       "      <td>3407</td>\n",
       "      <td>2276</td>\n",
       "      <td>2038</td>\n",
       "      <td>2356</td>\n",
       "      <td>1393</td>\n",
       "      <td>1736</td>\n",
       "      <td>1229</td>\n",
       "      <td>1095</td>\n",
       "    </tr>\n",
       "    <tr>\n",
       "      <th>2</th>\n",
       "      <td>5178</td>\n",
       "      <td>3440</td>\n",
       "      <td>3097</td>\n",
       "      <td>3524</td>\n",
       "      <td>2114</td>\n",
       "      <td>2587</td>\n",
       "      <td>1820</td>\n",
       "      <td>1638</td>\n",
       "    </tr>\n",
       "  </tbody>\n",
       "</table>\n",
       "</div>"
      ],
      "text/plain": [
       "   at_least_one   DNS    HM   TFs  DNS+HM  DNS+TFs  HM+TFs   ALL\n",
       "0          5087  3350  3029  3416    2042     2487    1744  1565\n",
       "1          3407  2276  2038  2356    1393     1736    1229  1095\n",
       "2          5178  3440  3097  3524    2114     2587    1820  1638"
      ]
     },
     "execution_count": 18,
     "metadata": {},
     "output_type": "execute_result"
    }
   ],
   "source": [
    "import numpy as np\n",
    "import matplotlib.pyplot as plt\n",
    "\n",
    "df2 = pd.DataFrame(TF_status,  columns=['at_least_one', 'DNS', 'HM', 'TFs', 'DNS+HM', 'DNS+TFs','HM+TFs', 'ALL'])\n",
    "df2 "
   ]
  },
  {
   "cell_type": "code",
   "execution_count": 19,
   "metadata": {},
   "outputs": [
    {
     "data": {
      "image/png": "[encoded data removed]",
      "text/plain": [
       "<matplotlib.figure.Figure at 0x1133f9128>"
      ]
     },
     "metadata": {},
     "output_type": "display_data"
    }
   ],
   "source": [
    "import numpy as np\n",
    "import matplotlib.pyplot as plt\n",
    "barWidth = 0.9\n",
    "\n",
    "ax = df2.plot(kind='bar', title =\"Annotation of non coding variants in different class\", figsize=(12, 5), legend=True, fontsize=12)\n",
    "ax.set_xlabel(\"Variant types\", fontsize=12)\n",
    "ax.set_ylabel(\"Counts\", fontsize=12)\n",
    "plt.show()\n",
    "fig.savefig('../results/Enhancer_elements.png')\n"
   ]
  },
  {
   "cell_type": "markdown",
   "metadata": {},
   "source": [
    "From the above chart, it can been said that we have at least one of functional markers in about (5087/22055) 23% of putative enhacer in all classes of variants. However, it has to be considered that we took into consideration one of cellline and these are the markers specific to cell type. Most intersting , we still find at least 1000 putatively, functional enhancers in all classes in all. It would be interesting to see these functional enhancer regions and dig into Rare and Low frequency varaints in these region. More intersting, it would be interesting if any of these varaints are earlier implicated in any arthesceloris heart diseases. Furthermore, these are result only from overlpaaing with one dataset. This data has to be randomized and overlapped so as to find the putative p-values to our non coding functional elements "
   ]
  },
  {
   "cell_type": "code",
   "execution_count": 20,
   "metadata": {},
   "outputs": [
    {
     "data": {
      "text/plain": [
       "23.6547941401097"
      ]
     },
     "execution_count": 20,
     "metadata": {},
     "output_type": "execute_result"
    }
   ],
   "source": [
    "(3407/14403)*100"
   ]
  },
  {
   "cell_type": "markdown",
   "metadata": {},
   "source": [
    "### Update on 15th october\n",
    "\n",
    "From the above results, as I was going through gene ontology script and going through it got me alot of Go term in these. I though I could subset those enhancer regions that are having all the functional marks in Rare and Low frequency and observe any specific GO Terms or processes in these annotated region. "
   ]
  },
  {
   "cell_type": "code",
   "execution_count": 77,
   "metadata": {},
   "outputs": [],
   "source": [
    "import sys\n",
    "## This site http://chris.friedline.net/2015-12-15-rutgers/lessons/python2/02-index-slice-subset.html helped\n",
    "## in understanding the subset in python\n",
    "\n",
    "Common_TFs = Common[(Common[12] != '0') & (Common[13] != '0') & (Common[14] != '0')]\n",
    "LowFreq_TFs = Low_freq[(Low_freq[12] != '0') & (Low_freq[13] != '0') & (Low_freq[14] != '0')]\n",
    "Rare_TFs = Rare[(Rare[12] != '0') & (Rare[13] != '0') & (Rare[14] != '0')]\n",
    "\n",
    "\n",
    "Common_TFs.to_csv('../data/Common_TFs.txt', index=True, sep='\\t',header =False)\n",
    "LowFreq_TFs.to_csv('../data/LowFreq_TFs.txt', index=True, sep='\\t',header = False )\n",
    "Rare_TFs.to_csv('../data/Rare_TFs.txt',index=True, sep='\\t', header = False)\n"
   ]
  },
  {
   "cell_type": "markdown",
   "metadata": {},
   "source": [
    "The above script leads to enhancers with all the non coding functional markers within all categories of variants. Possibly we are now leading to specific enhancers that would be present in all regions. Lets see can we do find some GO TERMS that are enriched in these specific regions"
   ]
  },
  {
   "cell_type": "code",
   "execution_count": 78,
   "metadata": {},
   "outputs": [],
   "source": [
    "#Common_TFs.head"
   ]
  },
  {
   "cell_type": "markdown",
   "metadata": {},
   "source": [
    "---------------------------------------"
   ]
  },
  {
   "cell_type": "markdown",
   "metadata": {},
   "source": [
    "### GO-Ontology of interaction data\n",
    "\n",
    "In order to find the any biological process that had been enriched in our interaction data, we set to do GO enrichment analysis in our dataser. Again we have to download GO term from some database, we used following (quickGO)[https://www.ebi.ac.uk/QuickGO-Old/]. From this database we subsetted to  following parameters to get the final output file. \n",
    "IDmapping was checked for following tags\n",
    "* UniprotKB\n",
    "* GeneID\n",
    "* HGNC\n",
    "* Refseq\n",
    "\n",
    "Similarly, for filter annotation again we checked the following box\n",
    "* Taxon = Human\n",
    "* Evidence = Manual Experimental i.e IMP,IGI,IPI,IDA,IEP,EXP\n",
    "* Aspect = Biological process \n",
    "\n",
    "We used these subsetting in order to make the GO terms that are true with experimental evidences. Additionally, to limit our results to fine subset. This would give us 44,565 GO for 8,569 proteins. This is download form (this website)[https://www.ebi.ac.uk/QuickGO-Old/GAnnotation] and download as gzip files and stored in data folder as association as .gzfiles. As shown in following table, this file consists of different columns subc as datbase symbols Qualifier, GOterm and GOID, Evidences name and symbols. This is quite raw format and would like to process with the earlier Rare_varaints_annaotated interaction data to get the GO terms that each gene would be present to."
   ]
  },
  {
   "cell_type": "code",
   "execution_count": 33,
   "metadata": {},
   "outputs": [
    {
     "name": "stdout",
     "output_type": "stream",
     "text": [
      "DB\tID\tSymbol\tQualifier\tGO ID\tGO Name\tAspect\tOriginal GO ID\tOriginal GO Name\tEvidence\tReference\tName\tSynonym\n",
      "UniProtKB\tA0A087WUF6\tFGF2\t-\tGO:0014843\tgrowth factor dependent regulation of skeletal muscle satellite cell proliferation\tProcess\tGO:0014843\tgrowth factor dependent regulation of skeletal muscle satellite cell proliferation\tIMP\tPMID:18602469\tFibroblast growth factor\tA0A087WUF6_HUMAN|FGF2\n"
     ]
    }
   ],
   "source": [
    "%%bash \n",
    "\n",
    "#gunzip ../data/QuickGO/associations.tsv.gz \n",
    "## for later commands command was used to see the head of files\n",
    "head -n 2 ../data/QuickGO/associations.tsv"
   ]
  },
  {
   "cell_type": "markdown",
   "metadata": {},
   "source": [
    "However, it is better organize the data into some sorted form before feeding into python program so that it would be easier to work. "
   ]
  },
  {
   "cell_type": "code",
   "execution_count": 34,
   "metadata": {},
   "outputs": [
    {
     "name": "stdout",
     "output_type": "stream",
     "text": [
      "DB\tID\tSymbol\tQualifier\tGO ID\tGO Name\tAspect\tOriginal GO ID\tOriginal GO Name\tEvidence\tReference\tName\tSynonym\n",
      "UniProtKB\tO60313\tOPA1\t-\tGO:0000002\tmitochondrial genome maintenance\tProcess\tGO:0000002\tmitochondrial genome maintenance\tIMP\tPMID:18158317\tDynamin-like 120 kDa protein, mitochondrial\tOPA1_HUMAN|OPA1|KIAA0567\n",
      "UniProtKB\tP19971\tTYMP\t-\tGO:0000002\tmitochondrial genome maintenance\tProcess\tGO:0000002\tmitochondrial genome maintenance\tIMP\tPMID:9924029\tThymidine phosphorylase\tTYPH_HUMAN|TYMP|ECGF1\n",
      "UniProtKB\tP39210\tMPV17\t-\tGO:0000002\tmitochondrial genome maintenance\tProcess\tGO:0000002\tmitochondrial genome maintenance\tIMP\tPMID:16582910\tProtein Mpv17\tMPV17_HUMAN|MPV17\n",
      "UniProtKB\tQ96CQ1\tSLC25A36\t-\tGO:0000002\tmitochondrial genome maintenance\tProcess\tGO:0000002\tmitochondrial genome maintenance\tIDA\tPMID:25320081\tSolute carrier family 25 member 36\tS2536_HUMAN|SLC25A36\n",
      "UniProtKB\tQ9BQP7\tMGME1\t-\tGO:0000002\tmitochondrial genome maintenance\tProcess\tGO:0000002\tmitochondrial genome maintenance\tIMP\tPMID:23313956\tMitochondrial genome maintenance exonuclease 1\tMGME1_HUMAN|MGME1|C20orf72|DDK1\n",
      "UniProtKB\tQ9BSK2\tSLC25A33\t-\tGO:0000002\tmitochondrial genome maintenance\tProcess\tGO:0000002\tmitochondrial genome maintenance\tIDA\tPMID:25320081\tSolute carrier family 25 member 33\tS2533_HUMAN|SLC25A33\n",
      "UniProtKB\tQ9Y243\tAKT3\t-\tGO:0000002\tmitochondrial genome maintenance\tProcess\tGO:0000002\tmitochondrial genome maintenance\tIMP\tPMID:18524868\tRAC-gamma serine/threonine-protein kinase\tAKT3_HUMAN|AKT3|PKBG\n",
      "UniProtKB\tO75900\tMMP23A\t-\tGO:0000003\treproduction\tProcess\tGO:0000003\treproduction\tIEP\tPMID:9988691\tMatrix metalloproteinase-23\tMMP23_HUMAN|MMP23A|MMP23B|MMP21|MMP21|MMP22\n",
      "UniProtKB\tP09430\tTNP1\t-\tGO:0000012\tsingle strand break repair\tProcess\tGO:0000012\tsingle strand break repair\tIDA\tPMID:12743712\tSpermatid nuclear transition protein 1\tSTP1_HUMAN|TNP1\n"
     ]
    }
   ],
   "source": [
    "%%bash\n",
    "\n",
    "(head -n 1 ../data/QuickGO/associations.tsv && tail -n +2 ../data/QuickGO/associations.tsv |\\\n",
    "sort -k 5,5) > ../data/QuickGO/sorted_association.tsv\n",
    "\n",
    "head ../data/QuickGO/sorted_association.tsv"
   ]
  },
  {
   "cell_type": "markdown",
   "metadata": {
    "collapsed": true
   },
   "source": [
    "\n",
    "In the earlier analysis, we went from variants to non coding enhancer regions in genome and tried to observe whether there were cunctional enhancers that were enriched in our list. Now we want to aggregate promoter mediated genes into functional groups. Gene ontolology term enrichment is one of such analysis. There are tools that can do Gene enrichment analysis in R. However for this, we wanted to do refined gene set analysis. Thus, I am writing a python script that would take a interaction data and corresponding GO terms and aggegrate genes that have are from same groups and also provide information on interaction change in each gene terms. I have called the script *Gene_Ontology.py*\n",
    "\n",
    "\n",
    "### Update on Oct 08 2017\n",
    "\n",
    "Now the following called Gene_ontology is written in python that takes these sorted assciation tsv files and gives the numeber of interaction genes in Go terms that are enriched in current analysis."
   ]
  },
  {
   "cell_type": "markdown",
   "metadata": {
    "collapsed": true
   },
   "source": [
    "Following python script called as Gene_ontology.py was written and run in order to find the gene ontology analysis for interaction files. The code is run as follows:"
   ]
  },
  {
   "cell_type": "code",
   "execution_count": 2,
   "metadata": {
    "collapsed": true
   },
   "outputs": [],
   "source": [
    "%%bash\n",
    " ## run in once ... other time commented out\n",
    "#python ../src/Gene_ontology.py  ../data/QuickGO/sorted_association.tsv  ../data/BAV_HiCap/BAV_P-E_InteractionDataset.txt  -o ../results/GO_BAV_P_E.txt "
   ]
  },
  {
   "cell_type": "markdown",
   "metadata": {
    "collapsed": true
   },
   "source": [
    "#### Update on 13 Oct 2017\n",
    "\n",
    "The python code works but it output as the following :\n",
    "\n",
    "* GO_ID\n",
    "* GO_Term \n",
    "* Number of genes in GO term\n",
    "* Number of genes in Interaction\n",
    "* Genes. \n",
    "\n",
    "However, more interesting would be to find the GOTerms in the individual regions of each varaint types . As with the earlier cell. Follwing bash command was run"
   ]
  },
  {
   "cell_type": "code",
   "execution_count": 79,
   "metadata": {
    "collapsed": true
   },
   "outputs": [],
   "source": [
    "%%bash\n",
    "#### Run one time uncommenting it\n",
    "#python ../src/Gene_ontology_v_2.py  ../data/QuickGO/sorted_association.tsv  ../data/Rare_TFs.txt  -o ../results/GO_Rare_BAV_P_E.txt\n",
    "#python ../src/Gene_ontology_v_2.py  ../data/QuickGO/sorted_association.tsv  ../data/LowFreq_TFs.txt  -o ../results/GO_Low_Freq_BAV_P_E.txt\n",
    "#python ../src/Gene_ontology_v_2.py  ../data/QuickGO/sorted_association.tsv  ../data/Common_TFs.txt  -o ../results/GO_Common_BAV_P_E.txt"
   ]
  },
  {
   "attachments": {},
   "cell_type": "markdown",
   "metadata": {},
   "source": [
    "I have updated the *GO_Ontology_py* as *GO_Ontology_PY_v2* where now it alos results the number of enhancer associated with each gene. Now the outputted columns are:\n",
    "\n",
    "* GO_ID\t\n",
    "* GO_Term\t\n",
    "* #Enhancer\n",
    "* Enhancer_mediated_promoter_gene\n",
    "* Enhancer_per_Gene_GO \n",
    "* Total_Genes_GO\t\n",
    "* Gene_name\n",
    "\n",
    "Upon sorting the GO_TERM based on the descending order of enhancer per gene and number of enhancer mediated_promoter gene > 2 in rare and Low frequency variants lead to these GO TERMS \n",
    "\n",
    "* GO:1902894  regulation of pri-miRNA transcription from RNA polymerase II promoter\n",
    "* GO:1901509 regulation of endothelial tube morphogenesis\t\n",
    "\n",
    "\n",
    "Of which second GOTERM GO:1901509 seemed interesting as it shows that there could be potential enhancer of these genes enriched with low and rare varaints and potential interesting to literature survey if they could do have any biological significance.\n",
    "\n",
    "![figures 4](../results/fig_interesting_1.png)\n",
    "![figures 5](../results/figure_interesting_2.png)\n",
    "\n",
    "\n",
    "\n",
    "However, I have to assign p-values to these term using hypergeometirc distribution."
   ]
  },
  {
   "cell_type": "code",
   "execution_count": null,
   "metadata": {
    "collapsed": true
   },
   "outputs": [],
   "source": []
  }
 ],
 "metadata": {
  "kernelspec": {
   "display_name": "Python 3",
   "language": "python",
   "name": "python3"
  },
  "language_info": {
   "codemirror_mode": {
    "name": "ipython",
    "version": 3
   },
   "file_extension": ".py",
   "mimetype": "text/x-python",
   "name": "python",
   "nbconvert_exporter": "python",
   "pygments_lexer": "ipython3",
   "version": "3.6.1"
  }
 },
 "nbformat": 4,
 "nbformat_minor": 2
}
