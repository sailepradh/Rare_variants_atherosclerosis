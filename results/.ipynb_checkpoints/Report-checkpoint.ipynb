{
 "cells": [
  {
   "cell_type": "markdown",
   "metadata": {},
   "source": [
    "## Rare variant arthesclerosis\n",
    "\n",
    "\n",
    "### Introduction\n",
    "\n",
    "#### Arthesclerosis is a complex disease with complicated eitology\n",
    "#### Rare variants have been implicated in different complex studies. Modern genomics technology such as sequencing uncover unprecidented amount of data.\n",
    "#### Hicap and other technology connects the non functional regions with promoter and enhancer\n",
    "#### In the current study we have used the rare variants from population study of swedish population. And observed the profile of rare and low frequency variants in interaction data from arthescloris patients. The goal was to annotate these promoter mediated enhaver regions with different funcitional marks and observe whethter there is enrichment of any of these DNA elements enriched in any of the regions"
   ]
  },
  {
   "cell_type": "markdown",
   "metadata": {},
   "source": [
    "#### Material and methods\n",
    "\n",
    "### Data acquistion\n",
    "\n",
    "Whole genome sequencing data was downloaded from swedgen frequency data (https://swegen-exac.nbis.se/downloads) of version 2. As reported these dataset includes the highest quality genetic map of swedish population From the resulting vcf file, the snp data set was created using a vcftools in order to seperate the snp and indel dataset \n",
    "\n",
    "Annotation data from chipseq was used. I access the dataset dated on 30th september and download individual files from chipseq atlas and downloaded the chipseq peaks for H3Kmeth and H327Ac dataset as Histone modification markers and transcription factor binding sites for corresponding peaks. The main objective of this practise was to find the individual profile of each enhancer and calcuate the enrichment score of each datatset\n",
    "\n",
    "### Defination of Rare and low frequncy variant in the population\n",
    "\n",
    "The variants from the swedish ppluation was classified into theree seperate catogories i.e Rare, Low frequncy and common based on the allele frequncy in the population THe variant classification were on the frequency  such that variant with MAF>0.05 were classified as \"Common\", Low frequency with  0.05 < MAF < 0.01, Rare variants < 0.01. However in the rare frequncy variants wer have removed that private variants that were present \n",
    "\n",
    "### Python script\n",
    "\n",
    "Customized python script was developed for each tasks and following this a pipleline scheme of these scripts were run in both low frequency and rare varaints ."
   ]
  }
 ],
 "metadata": {
  "kernelspec": {
   "display_name": "Python 3",
   "language": "python",
   "name": "python3"
  },
  "language_info": {
   "codemirror_mode": {
    "name": "ipython",
    "version": 3
   },
   "file_extension": ".py",
   "mimetype": "text/x-python",
   "name": "python",
   "nbconvert_exporter": "python",
   "pygments_lexer": "ipython3",
   "version": "3.6.1"
  }
 },
 "nbformat": 4,
 "nbformat_minor": 2
}
