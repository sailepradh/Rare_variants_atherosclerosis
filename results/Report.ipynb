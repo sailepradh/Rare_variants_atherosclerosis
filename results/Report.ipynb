{
 "cells": [
  {
   "cell_type": "markdown",
   "metadata": {},
   "source": [
    "## Rare variant arthesclerosis\n",
    "\n",
    "\n",
    "### Introduction\n",
    "\n",
    "#### <font color='green'>Arthesclerosis is a complex disease with complicated eitology</font> \n",
    "#### <font color='green'>Rare variants have been implicated in different complex studies. Modern genomics technology such as sequencing uncover unprecidented amount of data.</font> \n",
    "#### <font color='green'>Hicap and other technology connects the non functional regions with promoter and enhancer</font>\n",
    "#### <font color='red'>n the current study we have used the rare variants from population study of swedish population. And observed the profile of rare and low frequency variants in interaction data from arthescloris patients. The goal was to annotate these promoter mediated enhaver regions with different funcitional marks and observe whethter there is enrichment of any of these DNA elements enriched in any of the regions</font>"
   ]
  },
  {
   "cell_type": "markdown",
   "metadata": {},
   "source": [
    "## Material and methods\n",
    "\n",
    "### Data acquistion\n",
    "\n",
    "Whole genome sequencing data was downloaded from swedgen frequency data (https://swegen-exac.nbis.se/downloads) of version 2. As reported these dataset includes the highest quality genetic map of swedish population From the resulting vcf file, the snp data set was created using a vcftools in order to seperate the snp and indel dataset. Additionally inforder to remove variants with less significance we removed. Following cmmand was used for the outputting the SNp and Indel files . Addiitonally I also removed the regions that was annotated as  dark region of genome fby Heing.et al. \n",
    "\n",
    "Annotation data from chipseq was used. I access the dataset dated on 30th september and download individual files from chipseq atlas and downloaded the chipseq peaks for H3Kmeth and H327Ac dataset as Histone modification markers and transcription factor binding sites for corresponding peaks. The main objective of this practise was to find the individual profile of each enhancer and calcuate the enrichment score of each datatset\n",
    "\n",
    "\n",
    "### HI-CAP interactiome dataset\n",
    "\n",
    "Preprocessing of interaction dataset would be required. However interaction data have their own pattern . Colums in interaction...\n",
    "\n",
    "### Defination of Rare and low frequncy variant in the population\n",
    "\n",
    "The variants from the swedish ppluation was classified into theree seperate catogories i.e Rare, Low frequncy and common based on the allele frequncy in the population THe variant classification were on the frequency  such that variant with MAF>0.05 were classified as \"Common\", Low frequency with  0.05 < MAF < 0.01, Rare variants < 0.01. However in the rare frequncy variants wer have removed that private variants that were present within one individual either in homozygous or heterozygous condition. \n",
    "\n",
    "### Python script\n",
    "\n",
    "Customized python script was developed for each tasks and following this a pipleline scheme of these scripts were run in both low frequency and rare varaints .\n",
    "\n",
    "### GO TERM Enrichment analysis\n",
    "\n",
    "GO term included the moelcular biological and cellular processes that were curated from the GO_database. We download GO-terms from queick go database . Additionally while downloading the date we considered only the terms that were fullfilled the criteria of ... given in the database. We used this criteria in order to limit or gene pntology analysis to relatively functional genes which have the experimental validation. A customized python was made in for the following analysis as well.\n"
   ]
  },
  {
   "cell_type": "markdown",
   "metadata": {},
   "source": [
    "## Results\n",
    "\n",
    "### Number of Rare, Common and low frequency alleles in Swedgen population and number in the enhancer region of genome\n",
    "\n",
    "Orignally there was 35million variants thate were tagged as \"Pass\" all 1000 swedish genome population.  1462754 indel variants were identified as the passed on GATK filter. As shown in Fig 1. we have identified XXXX SNPs and 4,459,773 indels in in the population. \n",
    "\n",
    "  The preprocessed promoter-enhancer list was contained 33,323 unique enhancers regions in Bicuspid aortic valve (BAV cells. The data contains of promoter regions and corresponding enhancer regions of 2 replicates from BAV cell. We found on average of 20.38 and 13.93 interaction enhacers change in replicate1 and replicate2 respectivley. As shown in figure 1, we identified  distribution of different enhancer length. \n",
    "  \n",
    "  \n",
    "  \n",
    "-------------------------------------------------------------\n",
    "    Enhancer_length                     Counts\n",
    "\n",
    "        < 50kb                          8259  \n",
    "        50-500kb                        20700\n",
    "        500kb -1Mb                      3334\n",
    "        > 1MB                           1030 \n",
    "-------------------------------------------------------------\n",
    "\n",
    "\n",
    "![figures 1](../results/length_distribution.png)\n",
    "\n",
    "\n",
    "This length distribution depicts that most of our putative enhancers are within the range of 50-1Mb base pairs which is in par with the Hi-C methods\n",
    "\n",
    "We identified  22,055, 14403 and 22,144 putative enhancer regions in our interaction dataset with common, low-frequency and rare variants. Furthermore, we identified in total 56,891 common , 24,049 low-frequency and  47,281 rare variants enriched in these enhancer regions as shown in table 2. Interestinly, our enhancer regions have been enriched with rare variants from the population.\n",
    "\n",
    "| Variant class     | Enhancer with variants | Total variants type |\n",
    "| :---         |     :---:      |          ---: |\n",
    "| Common   | 22055     | 56891    |\n",
    "| Low Frequency     | 14403      | 24049     |\n",
    "| Rare    | 22144       | 47281      |\n",
    "\n",
    "\n",
    "Furthermore, we observed high enrichment of rare varaints  as shown in Figure 2 with allele count lesser than 5 count in the population. This tells us that most of our variants are present in very low frequency within the population.\n",
    "\n",
    "![figures 1](../results/Distibution_allelecount.png)\n",
    "\n",
    "### Enrichment status of H3kMe and H24 mark in low and rare frequency \n",
    "\n",
    "\n",
    "\n",
    "\n",
    "### Enrichment status of both in TFs binding sites in low and reare frequency\n",
    "\n",
    "\n",
    "\n",
    "\n",
    "\n",
    "### GO term enrichment status of P_E  interaction mediated genes"
   ]
  },
  {
   "cell_type": "code",
   "execution_count": null,
   "metadata": {
    "collapsed": true
   },
   "outputs": [],
   "source": []
  }
 ],
 "metadata": {
  "kernelspec": {
   "display_name": "Python 3",
   "language": "python",
   "name": "python3"
  },
  "language_info": {
   "codemirror_mode": {
    "name": "ipython",
    "version": 3
   },
   "file_extension": ".py",
   "mimetype": "text/x-python",
   "name": "python",
   "nbconvert_exporter": "python",
   "pygments_lexer": "ipython3",
   "version": "3.6.1"
  }
 },
 "nbformat": 4,
 "nbformat_minor": 2
}
